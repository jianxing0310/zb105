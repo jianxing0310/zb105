{
 "cells": [
  {
   "cell_type": "code",
   "execution_count": 15,
   "metadata": {
    "collapsed": false
   },
   "outputs": [],
   "source": [
    "import os\n",
    "import time\n",
    "import requests\n",
    "from bs4 import BeautifulSoup as bs\n",
    "\n",
    "#s.mkdir('104')\n",
    "index = 144\n",
    "for i in range(1, 3):   \n",
    "    res = requests.get('http://www.104.com.tw/jobbank/joblist/joblist.cfm?jobsource=n104bank1&ro=0&keyword=data&order=1&asc=0&page={}&psl=N_B'.format(i))\n",
    "    response = res.text.encode('utf8') \n",
    "    soup = bs(response)\n",
    "    for title in soup.select('.job_name'):\n",
    "        bid_detail = open(\"aa.txt\", 'w')\n",
    "        a = 'http://www.104.com.tw'+title.select('a')[0]['href'] \n",
    "        #print a        "
   ]
  },
  {
   "cell_type": "code",
   "execution_count": 20,
   "metadata": {
    "collapsed": false
   },
   "outputs": [],
   "source": [
    "# 查詢data相關職缺\n",
    "\n",
    "import os\n",
    "import time\n",
    "import requests\n",
    "from bs4 import BeautifulSoup as bs\n",
    "\n",
    "with open('104line.txt', 'w') as f:\n",
    "    index = 144\n",
    "    for page in xrange(1, 5): #測試只爬5頁\n",
    "        res = requests.get('http://www.104.com.tw/jobbank/joblist/joblist.cfm?jobsource=n104bank1&ro=0&keyword=data&order=1&asc=0&page={}&psl=N_B'.format(page))\n",
    "        response = res.text.encode('utf8') \n",
    "        soup = bs(response)\n",
    "        domain = 'http://www.104.com.tw'\n",
    "        print_area = soup.select('.job_name')\n",
    "        # print print_area\n",
    "        for tr in print_area:            \n",
    "            f.write(domain + tr.select('a')[0]['href']  + '\\n')\n",
    "        time.sleep(1) "
   ]
  },
  {
   "cell_type": "code",
   "execution_count": 66,
   "metadata": {
    "collapsed": true
   },
   "outputs": [],
   "source": [
    "#查尋軟體相關 一共有15xxx筆 但最多150頁 將網址存到文件裡\n",
    "# 問題:只找到3000多筆\n",
    "import os\n",
    "import time\n",
    "import requests\n",
    "from bs4 import BeautifulSoup as bs\n",
    "\n",
    "with open('104.txt', 'w') as f:\n",
    "    index = 150\n",
    "    for page in xrange(1, 150):\n",
    "        res = requests.get('http://www.104.com.tw/jobbank/joblist/joblist.cfm?jobsource=104_bank1&ro=0&jobcat=2007001000&order=2&asc=0&page={}&psl=N_B'.format(page))\n",
    "        response = res.text.encode('utf8') \n",
    "        soup = bs(response)\n",
    "        domain = 'http://www.104.com.tw'\n",
    "        print_area = soup.select('.job_name')\n",
    "        # print print_area\n",
    "        for tr in print_area:\n",
    "            if tr.select('a')[0]['href'][0:4] != \"http\":\n",
    "                f.write(domain + tr.select('a')[0]['href']  + '\\n')\n",
    "            else:\n",
    "                continue\n",
    "        time.sleep(1) "
   ]
  },
  {
   "cell_type": "code",
   "execution_count": 65,
   "metadata": {
    "collapsed": false
   },
   "outputs": [
    {
     "name": "stdout",
     "output_type": "stream",
     "text": [
      "http://tutor.104.com.tw/trans_job_to_case.cfm?frompage=joblist&jobno=800401011111\n"
     ]
    }
   ],
   "source": [
    "# test解決 一開始就有http時\n",
    "\n",
    "url = \"http://tutor.104.com.tw/trans_job_to_case.cfm?frompage=joblist&jobno=8004010\"\n",
    "\n",
    "if url[0:4] != \"http\":\n",
    "    print url[0:4]\n",
    "else:\n",
    "    print url + \"11111\""
   ]
  },
  {
   "cell_type": "code",
   "execution_count": 67,
   "metadata": {
    "collapsed": false
   },
   "outputs": [
    {
     "name": "stdout",
     "output_type": "stream",
     "text": [
      "http://www.104.com.twjavascript:void(0)\n",
      "http://www.104.com.twjavascript:void(0)\n",
      "http://www.104.com.twjavascript:void(0)\n",
      "http://www.104.com.twjavascript:void(0)\n",
      "http://www.104.com.twjavascript:void(0)\n",
      "http://www.104.com.twjavascript:void(0)\n",
      "http://www.104.com.twjavascript:void(0)\n",
      "http://www.104.com.twjavascript:void(0)\n",
      "http://www.104.com.twjavascript:void(0)\n",
      "http://www.104.com.twjavascript:void(0)\n",
      "http://www.104.com.twjavascript:void(0)\n",
      "http://www.104.com.twjavascript:void(0)\n",
      "http://www.104.com.twjavascript:void(0)\n",
      "http://www.104.com.twjavascript:void(0)\n",
      "http://www.104.com.twjavascript:void(0)\n",
      "http://www.104.com.twjavascript:void(0)\n",
      "http://www.104.com.twjavascript:void(0)\n",
      "http://www.104.com.twjavascript:void(0)\n",
      "http://www.104.com.twjavascript:void(0)\n",
      "http://www.104.com.twjavascript:void(0)\n",
      "http://www.104.com.twjavascript:void(0)\n",
      "http://www.104.com.twjavascript:void(0)\n",
      "http://www.104.com.twjavascript:void(0)\n",
      "http://www.104.com.twjavascript:void(0)\n",
      "http://www.104.com.twjavascript:void(0)\n",
      "http://www.104.com.twjavascript:void(0)\n",
      "http://www.104.com.twjavascript:void(0)\n",
      "http://www.104.com.twjavascript:void(0)\n",
      "http://www.104.com.twjavascript:void(0)\n",
      "http://www.104.com.twjavascript:void(0)\n",
      "http://www.104.com.twjavascript:void(0)\n",
      "http://www.104.com.twjavascript:void(0)\n",
      "http://www.104.com.twjavascript:void(0)\n",
      "http://www.104.com.twjavascript:void(0)\n",
      "http://www.104.com.twjavascript:void(0)\n",
      "http://www.104.com.twjavascript:void(0)\n",
      "http://www.104.com.twjavascript:void(0)\n",
      "http://www.104.com.twjavascript:void(0)\n",
      "http://www.104.com.twjavascript:void(0)\n",
      "http://www.104.com.twjavascript:void(0)\n",
      "http://www.104.com.twjavascript:void(0)\n",
      "http://www.104.com.twjavascript:void(0)\n",
      "http://www.104.com.twjavascript:void(0)\n",
      "http://www.104.com.twjavascript:void(0)\n",
      "http://www.104.com.twjavascript:void(0)\n",
      "http://www.104.com.twjavascript:void(0)\n",
      "http://www.104.com.twjavascript:void(0)\n",
      "http://www.104.com.twjavascript:void(0)\n",
      "http://www.104.com.twjavascript:void(0)\n",
      "http://www.104.com.twjavascript:void(0)\n",
      "http://www.104.com.twjavascript:void(0)\n",
      "http://www.104.com.twjavascript:void(0)\n",
      "http://www.104.com.twjavascript:void(0)\n",
      "http://www.104.com.twjavascript:void(0)\n",
      "http://www.104.com.twjavascript:void(0)\n",
      "http://www.104.com.twjavascript:void(0)\n",
      "http://www.104.com.twjavascript:void(0)\n",
      "http://www.104.com.twjavascript:void(0)\n",
      "http://www.104.com.twjavascript:void(0)\n",
      "http://www.104.com.twjavascript:void(0)\n",
      "http://www.104.com.twjavascript:void(0)\n",
      "http://www.104.com.twjavascript:void(0)\n",
      "http://www.104.com.twjavascript:void(0)\n",
      "http://www.104.com.twjavascript:void(0)\n",
      "http://www.104.com.twjavascript:void(0)\n",
      "http://www.104.com.twjavascript:void(0)\n",
      "http://www.104.com.twjavascript:void(0)\n",
      "http://www.104.com.twjavascript:void(0)\n",
      "http://www.104.com.twjavascript:void(0)\n"
     ]
    }
   ],
   "source": [
    "#爬取網頁資料\n",
    "import re\n",
    "import time\n",
    "dic = {}\n",
    "with open('104.txt', 'r') as f:\n",
    "    for line in f.readlines():\n",
    "        url = line.strip()\n",
    "        m = re.match('.*jobno=(\\w+)', url)\n",
    "        try:  #抓出失效連結\n",
    "            jobno = m.group(1)\n",
    "        except:\n",
    "            print url\n",
    "            continue\n",
    "        with open('gov/{}.txt'.format(jobno), 'w') as f:\n",
    "            res = requests.get(url)\n",
    "            soup = bs(res.text)\n",
    "            time.sleep(1)\n",
    "            try:\n",
    "                f.write(soup.select('#job , #job h1')[0].prettify('utf-8'))\n",
    "            except:\n",
    "                print url\n",
    "        "
   ]
  }
 ],
 "metadata": {
  "kernelspec": {
   "display_name": "Python 2",
   "language": "python",
   "name": "python2"
  },
  "language_info": {
   "codemirror_mode": {
    "name": "ipython",
    "version": 2
   },
   "file_extension": ".py",
   "mimetype": "text/x-python",
   "name": "python",
   "nbconvert_exporter": "python",
   "pygments_lexer": "ipython2",
   "version": "2.7.11"
  }
 },
 "nbformat": 4,
 "nbformat_minor": 0
}

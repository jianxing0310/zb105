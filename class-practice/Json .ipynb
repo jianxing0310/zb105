{
 "cells": [
  {
   "cell_type": "code",
   "execution_count": 1,
   "metadata": {
    "collapsed": true
   },
   "outputs": [],
   "source": [
    "m1 = {'1':1,\"2\":2}\n",
    "m2 = {\"3\":3,\"4\":4}http://localhost:8888/notebooks/Untitled.ipynb?kernel_name=python2\n",
    "m1.update(m2)"
   ]
  },
  {
   "cell_type": "code",
   "execution_count": 21,
   "metadata": {
    "collapsed": false
   },
   "outputs": [
    {
     "name": "stdout",
     "output_type": "stream",
     "text": [
      "{'2015-01-02': [1, 2, 3], '2015-01-01': [6, 7, 8]}\n"
     ]
    }
   ],
   "source": [
    "m = {\"2015-01-01\":[4,5,6],\"2015-01-02\":[1,2,3],\"2015-01-01\":[6,7,8]}\n",
    "print m"
   ]
  },
  {
   "cell_type": "code",
   "execution_count": 26,
   "metadata": {
    "collapsed": false
   },
   "outputs": [
    {
     "name": "stdout",
     "output_type": "stream",
     "text": [
      "['1', '3', '2', '4']\n",
      "['3', '4']\n"
     ]
    }
   ],
   "source": [
    "m=[m1,m2]\n",
    "for mm in m:\n",
    "    print mm.keys()"
   ]
  },
  {
   "cell_type": "code",
   "execution_count": 29,
   "metadata": {
    "collapsed": false
   },
   "outputs": [
    {
     "name": "stdout",
     "output_type": "stream",
     "text": [
      "[{'1': 1, '3': 3, '2': 2, '4': 4}]\n",
      "[{'1': 1, '3': 3, '2': 2, '4': 4}, {'3': 3, '4': 4}]\n"
     ]
    }
   ],
   "source": [
    "m_list = []\n",
    "m_list.append(m1)\n",
    "print m_list\n",
    "m_list.append(m2)\n",
    "print m_list"
   ]
  }
 ],
 "metadata": {
  "kernelspec": {
   "display_name": "Python 2",
   "language": "python",
   "name": "python2"
  },
  "language_info": {
   "codemirror_mode": {
    "name": "ipython",
    "version": 2
   },
   "file_extension": ".py",
   "mimetype": "text/x-python",
   "name": "python",
   "nbconvert_exporter": "python",
   "pygments_lexer": "ipython2",
   "version": "2.7.11"
  }
 },
 "nbformat": 4,
 "nbformat_minor": 0
}

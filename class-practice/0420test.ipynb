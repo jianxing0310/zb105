{
 "cells": [
  {
   "cell_type": "code",
   "execution_count": 1,
   "metadata": {
    "collapsed": false
   },
   "outputs": [
    {
     "name": "stdout",
     "output_type": "stream",
     "text": [
      "Hello Tom!\n"
     ]
    }
   ],
   "source": [
    "print 'Hello %s!' % ('Tom',)"
   ]
  },
  {
   "cell_type": "code",
   "execution_count": 3,
   "metadata": {
    "collapsed": false
   },
   "outputs": [
    {
     "name": "stdout",
     "output_type": "stream",
     "text": [
      "Hello Tom!\n"
     ]
    }
   ],
   "source": [
    "print 'Hello %(name)s!' % {'name':'Tom'}"
   ]
  },
  {
   "cell_type": "code",
   "execution_count": 5,
   "metadata": {
    "collapsed": false
   },
   "outputs": [
    {
     "name": "stdout",
     "output_type": "stream",
     "text": [
      "Hello world from Python.\n"
     ]
    }
   ],
   "source": [
    "print '{greet} from {language}.'.format(greet = 'Hello world', language = 'Python')   "
   ]
  },
  {
   "cell_type": "code",
   "execution_count": 8,
   "metadata": {
    "collapsed": false
   },
   "outputs": [
    {
     "name": "stdout",
     "output_type": "stream",
     "text": [
      "2.7.11 |Anaconda 2.4.1 (64-bit)| (default, Dec  7 2015, 14:10:42) [MSC v.1500 64 bit (AMD64)]\n",
      "('forLoop             ', '=>', 1.0139999389648438)\n",
      "('listComprehension   ', '=>', 0.6180000305175781)\n",
      "('mapFunction         ', '=>', 1.1490001678466797)\n"
     ]
    }
   ],
   "source": [
    "import time, sys  \n",
    "reps = 10000000 \n",
    "repsList = range(reps)  \n",
    "  \n",
    "def tester(func, *args):  \n",
    "    startTime = time.time()  \n",
    "    for i in range(reps):  \n",
    "        func(*args)  \n",
    "        elapsed = time.time() - startTime  \n",
    "        return elapsed  \n",
    "def forLoop():  \n",
    "    res = []  \n",
    "    for x in repsList:  \n",
    "        res.append(x + 1)  \n",
    "        \n",
    "def listComprehension():  \n",
    "    res = [x + 1 for x in repsList]  \n",
    "    \n",
    "def mapFunction():  \n",
    "    res = list(map((lambda x : x + 1), repsList))  \n",
    "    \n",
    "print (sys.version)  \n",
    "tests = (forLoop, listComprehension, mapFunction)  \n",
    "for testfunc in tests:  \n",
    "    print (testfunc.__name__.ljust(20), '=>', tester(testfunc))  "
   ]
  },
  {
   "cell_type": "code",
   "execution_count": null,
   "metadata": {
    "collapsed": true
   },
   "outputs": [],
   "source": []
  }
 ],
 "metadata": {
  "kernelspec": {
   "display_name": "Python 2",
   "language": "python",
   "name": "python2"
  },
  "language_info": {
   "codemirror_mode": {
    "name": "ipython",
    "version": 2
   },
   "file_extension": ".py",
   "mimetype": "text/x-python",
   "name": "python",
   "nbconvert_exporter": "python",
   "pygments_lexer": "ipython2",
   "version": "2.7.11"
  }
 },
 "nbformat": 4,
 "nbformat_minor": 0
}

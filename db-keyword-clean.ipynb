{
 "cells": [
  {
   "cell_type": "markdown",
   "metadata": {},
   "source": [
    "# 取出中時關鍵字"
   ]
  },
  {
   "cell_type": "code",
   "execution_count": null,
   "metadata": {
    "collapsed": true
   },
   "outputs": [],
   "source": [
    "#encoding='utf-8'\n",
    "\n",
    "import pymongo\n",
    "from pymongo import MongoClient\n",
    "\n",
    "client = MongoClient() \n",
    "database = client[\"news\"]\n",
    "test2 = database[\"news\"]\n",
    "f = open('dict3.txt', 'w')\n",
    "\n",
    "for post in test2.find({\"comp\" : \"ChinaTimes\"}): \n",
    "    f.write(post[\"keyw\"].encode('utf-8')+ '\\n') \n",
    "f.close"
   ]
  },
  {
   "cell_type": "markdown",
   "metadata": {},
   "source": [
    "# 整理資料(刪除連接關鍵字的\"_\"符號)"
   ]
  },
  {
   "cell_type": "code",
   "execution_count": null,
   "metadata": {
    "collapsed": true
   },
   "outputs": [],
   "source": [
    "import string\n",
    "\n",
    "f = open('dict3.txt', 'r')\n",
    "f2= open('dict4.txt', 'w')\n",
    "for j in f.readlines():\n",
    "    j.split(\"_\")\n",
    "    for e in j.split(\"_\"):\n",
    "        f2.write(e+ '\\n')\n",
    "\n",
    "f.close"
   ]
  },
  {
   "cell_type": "markdown",
   "metadata": {},
   "source": [
    "# 移除重複"
   ]
  },
  {
   "cell_type": "code",
   "execution_count": null,
   "metadata": {
    "collapsed": true
   },
   "outputs": [],
   "source": [
    "file = open('dict4.txt', 'r')\n",
    "data = {}\n",
    "f = open('dict5.txt', 'w')\n",
    "try:\n",
    "    for line in file:\n",
    "        data[line.strip()] = 1\n",
    "\n",
    "    for line in iter(data):\n",
    "        f.write(line + '\\n')\n",
    "\n",
    "finally:\n",
    "    file.close()\n",
    "    f.close()"
   ]
  }
 ],
 "metadata": {
  "kernelspec": {
   "display_name": "Python 2",
   "language": "python",
   "name": "python2"
  },
  "language_info": {
   "codemirror_mode": {
    "name": "ipython",
    "version": 2
   },
   "file_extension": ".py",
   "mimetype": "text/x-python",
   "name": "python",
   "nbconvert_exporter": "python",
   "pygments_lexer": "ipython2",
   "version": "2.7.11"
  }
 },
 "nbformat": 4,
 "nbformat_minor": 0
}

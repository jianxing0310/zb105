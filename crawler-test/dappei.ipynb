{
 "cells": [
  {
   "cell_type": "code",
   "execution_count": 10,
   "metadata": {
    "collapsed": false
   },
   "outputs": [
    {
     "name": "stdout",
     "output_type": "stream",
     "text": [
      "['http://dappei.com/photos?category=all&order=hot&page=1']\n"
     ]
    }
   ],
   "source": [
    "import requests\n",
    "from bs4 import BeautifulSoup as bs\n",
    "from urlparse import urljoin\n",
    "import shutil\n",
    "url ='http://dappei.com/photos?category=all&order=hot&page={}' ##hot pick id\n",
    "urls = []\n",
    "for i in xrange(0,1):  ##你幾頁到幾頁\n",
    "    urls.append(url.format(i+1))\n",
    "    print urls\n",
    "for url in urls:\n",
    "    res = requests.get(url)\n",
    "    soup = bs(res.text)\n",
    "    h1 = soup.select('#photo-wall .like-photo')\n",
    "    for s in h1:\n",
    "        a=s.get('data-id')\n",
    "        aa=urljoin('http://dappei.com/photos/',a)\n",
    "        res = requests.get(aa)\n",
    "        soup = bs(res.text)\n",
    "        h2 = soup.select('.photo-container .photo img')\n",
    "        h3 = soup.select('.blur')\n",
    "        photo=1\n",
    "        for s in h2:\n",
    "            b=s.get('src')\n",
    "            c=s.get('alt')[0:20]\n",
    "            ##print b,c\n",
    "            user_name, photo_name = a ,  c.encode('big5') \n",
    "            res = requests.get(b, stream=True)\n",
    "            f = open('/Users/User/Desktop/123/{}_{}.jpg'.format(user_name,photo_name),'wb')\n",
    "            res.raw.decode_content = True\n",
    "            shutil.copyfileobj(res.raw, f)      \n",
    "            f.close()\n",
    "        for s in h3:\n",
    "            d=s.get('src')\n",
    "            ##print d\n",
    "            user = a \n",
    "            photo = photo+1\n",
    "            res = requests.get(d, stream=True)\n",
    "            f = open('/Users/User/Desktop/123/{}_{}.jpg'.format(user, photo),'wb')\n",
    "            res.raw.decode_content = True\n",
    "            shutil.copyfileobj(res.raw, f)      \n",
    "            f.close()"
   ]
  }
 ],
 "metadata": {
  "kernelspec": {
   "display_name": "Python 2",
   "language": "python",
   "name": "python2"
  },
  "language_info": {
   "codemirror_mode": {
    "name": "ipython",
    "version": 2
   },
   "file_extension": ".py",
   "mimetype": "text/x-python",
   "name": "python",
   "nbconvert_exporter": "python",
   "pygments_lexer": "ipython2",
   "version": "2.7.11"
  }
 },
 "nbformat": 4,
 "nbformat_minor": 0
}

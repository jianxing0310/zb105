{
 "cells": [
  {
   "cell_type": "code",
   "execution_count": 1,
   "metadata": {
    "collapsed": false
   },
   "outputs": [
    {
     "name": "stderr",
     "output_type": "stream",
     "text": [
      "C:\\Users\\BIG DATA\\Anaconda2\\lib\\site-packages\\bs4\\__init__.py:166: UserWarning: No parser was explicitly specified, so I'm using the best available HTML parser for this system (\"lxml\"). This usually isn't a problem, but if you run this code on another system, or in a different virtual environment, it may use a different parser and behave differently.\n",
      "\n",
      "To get rid of this warning, change this:\n",
      "\n",
      " BeautifulSoup([your markup])\n",
      "\n",
      "to this:\n",
      "\n",
      " BeautifulSoup([your markup], \"lxml\")\n",
      "\n",
      "  markup_type=markup_type))\n"
     ]
    }
   ],
   "source": [
    "#抓個縣市每個工作連結\n",
    "import requests\n",
    "from bs4 import BeautifulSoup as bs\n",
    "import time\n",
    "cou_url='http://www.1111.com.tw/job-bank/category.asp?cat=1&d=140202&city=1'\n",
    "cou_res = requests.get(cou_url)\n",
    "cou_soup = bs(cou_res.text)\n",
    "cou_divs = cou_soup.select('.step2')[0]\n",
    "all_job= \"\"\n",
    "page_number=0\n",
    "for p in xrange(0,15):\n",
    "    divs1 = cou_divs.select('a')[p]['href']\n",
    "    url1111 = 'http://www.1111.com.tw'\n",
    "    url2222 = url1111+divs1\n",
    "    job_url = url2222+'&page=1'\n",
    "    job_res = requests.get(job_url)\n",
    "    job_soup = bs(job_res.text)  \n",
    "    \n",
    "    page_div = job_soup.select('#showTotalPageCssBottom')[0]\n",
    "    page_div1 = page_div.text.split('/'+' ')[1].split(' ')[0]\n",
    "    page_number = int(page_div1)\n",
    "    if (page_number)>1: \n",
    "        for i in xrange(0,page_number):\n",
    "            job_url1 = url2222+'&page={}'.format(i+1)\n",
    "            job_res1 = requests.get(job_url1)\n",
    "            job_soup1 = bs(job_res1.text)\n",
    "            len_div = len(job_soup1.select('.positionCssA'))\n",
    "            for pages in xrange(0,len_div):\n",
    "                job_href1 = job_soup1.select('.positionCssA')[pages]['href']\n",
    "                all_job += job_href1+'\\n'\n",
    "    else:\n",
    "        job_href = job_soup.select('.positionCssA')[0]['href'] \n",
    "        all_job += job_href+'\\n'\n",
    "    f = open('E:\\job_url\\job.txt','w')\n",
    "    f.write(all_job.encode('utf8'))\n",
    "    f.close()\n",
    "    time.sleep(0.5)"
   ]
  },
  {
   "cell_type": "code",
   "execution_count": null,
   "metadata": {
    "collapsed": true
   },
   "outputs": [],
   "source": [
    "#進入每個網頁後爬取裡面內容\n",
    "import requests\n",
    "from bs4 import BeautifulSoup as bs\n",
    "import time\n",
    "with open('E:\\job_url\\job.txt', 'r') as f:\n",
    "    for url in f.readlines():\n",
    "        url_content = url\n",
    "        res_content = requests.get(url_content)\n",
    "        soup_content = bs(res_content.text)\n",
    "        divs_content = soup_content.select('#midblock dt')\n",
    "        divs1_content = soup_content.select('#midblock dd')\n",
    "        title = soup_content.select('#commonTop h1')[0] \n",
    "        paper = title.text+' '\n",
    "        len_div = len(divs_content)\n",
    "        for n in range(0,len_div):\n",
    "            x = divs_content[n].text\n",
    "            y = divs1_content[n].text    \n",
    "            dic = {x:y}\n",
    "            for ele in dic:\n",
    "                paper += ele+dic[ele]\n",
    "            name = url_content.split('No=')[1].split('&')[0]         \n",
    "            f = open('E:\\job\\{}.txt'.format(name),'w')\n",
    "            f.write(paper.encode('utf8'))\n",
    "            f.close()\n",
    "            time.sleep(0.1)"
   ]
  },
  {
   "cell_type": "code",
   "execution_count": null,
   "metadata": {
    "collapsed": true
   },
   "outputs": [],
   "source": []
  }
 ],
 "metadata": {
  "kernelspec": {
   "display_name": "Python 2",
   "language": "python",
   "name": "python2"
  },
  "language_info": {
   "codemirror_mode": {
    "name": "ipython",
    "version": 2
   },
   "file_extension": ".py",
   "mimetype": "text/x-python",
   "name": "python",
   "nbconvert_exporter": "python",
   "pygments_lexer": "ipython2",
   "version": "2.7.11"
  }
 },
 "nbformat": 4,
 "nbformat_minor": 0
}

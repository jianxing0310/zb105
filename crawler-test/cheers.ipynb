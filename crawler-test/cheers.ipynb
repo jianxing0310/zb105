{
 "cells": [
  {
   "cell_type": "markdown",
   "metadata": {},
   "source": [
    "方法一:進到網頁判斷有沒有下一頁，如果有則進行下一頁，如果沒有則抓當頁"
   ]
  },
  {
   "cell_type": "code",
   "execution_count": 36,
   "metadata": {
    "collapsed": false
   },
   "outputs": [],
   "source": [
    "import requests\n",
    "from bs4 import BeautifulSoup as bs\n",
    "import time\n",
    "url=\"http://www.cheers.com.tw/top\"\n",
    "res = requests.get(url)#連到TOP20網頁\n",
    "soup = bs(res.text)#整理內容\n",
    "divs = soup.select('.top20group')[0]#抓到TOP20標籤\n",
    "y = len(divs.select('a'))#以a標籤算長度\n",
    "x_url=\"\"\n",
    "for i in range(0,y):#寫個迴圈把20篇放到x_url\n",
    "    all_page=\"\"#all_page做完回圈後會變空字串\n",
    "    x_url = divs.select('a')[i]['href']#連到每個文章內\n",
    "    res1 = requests.get(x_url)#跟每個頁面取得連結\n",
    "    soup1 = bs(res1.text)#整理內容    \n",
    "    rec_number = soup1.select('.pages')#抓頁數pages標籤\n",
    "    pages_number = rec_number[0]#把陣列裡的第一個東西放到變數裡\n",
    "    i_len = pages_number.select(\"i\")#用i算長度\n",
    "    pages = len(pages_number.select('li'))#用li算長度\n",
    "    pages = pages-2#算頁數(減掉下一頁跟不分頁閱讀)\n",
    "    if (len(i_len)>0):#判斷頁數是否超過1\n",
    "        for i in range(0,pages):#抓取1-20頁\n",
    "            next_page = x_url.split('&')[0]+'&page={}'.format(i+1)#截取&前面字串加上字串&page={}用format方法網頁頁數+1\n",
    "            #url=\"http://www.cheers.com.tw/article/article.action?id=555555&page=i\"\n",
    "            res2 = requests.get(next_page)\n",
    "            soup2 = bs(res2.text)\n",
    "            divs2 = soup2.select('.chw_article_main_content p')\n",
    "            for div3 in divs2[1:(len(divs1)-1)]:#頭尾標題不要\n",
    "                all_page += div3.text #p標籤字串相加存到all_page\n",
    "    else:#抓取當頁\n",
    "        res3 = requests.get(x_url)\n",
    "        soup3 = bs(res3.text)\n",
    "        divs3 = soup3.select('.chw_article_main_content p')\n",
    "        for div4 in divs3[1:(len(divs1)-1)]:\n",
    "            all_page += div4.text #p標籤字串相加\n",
    "    name = x_url.split('id=')[1].split('&')[0]        \n",
    "    f = open('E:\\cheers\\{}.txt'.format(name),'w')\n",
    "    f.write(all_page.encode('utf-8'))\n",
    "    f.close()\n",
    "    time.sleep(3)"
   ]
  },
  {
   "cell_type": "markdown",
   "metadata": {},
   "source": [
    "方法二:進到網頁後直接抓取當頁，在判斷有沒有下頁，如果有則進行下一頁"
   ]
  },
  {
   "cell_type": "code",
   "execution_count": null,
   "metadata": {
    "collapsed": false
   },
   "outputs": [],
   "source": [
    "import requests\n",
    "from bs4 import BeautifulSoup as bs\n",
    "import time\n",
    "url=\"http://www.cheers.com.tw/top\"\n",
    "res = requests.get(url)#連到TOP20網頁\n",
    "soup = bs(res.text)#整理內容\n",
    "divs = soup.select('.top20group')[0]#抓到TOP20標籤\n",
    "y = len(divs.select('a'))#以a標籤算長度\n",
    "x_url=\"\"\n",
    "for i in range(0,y):#寫個迴圈把20篇放到x_url\n",
    "    all_page=\"\"\n",
    "    x_url = divs.select('a')[i]['href']#連到每個文章內\n",
    "    res1 = requests.get(x_url)#跟每個頁面取得連結\n",
    "    soup1 = bs(res1.text)#整理內容    \n",
    "    divs1 = soup1.select('.chw_article_main_content p')\n",
    "    for div in divs1[1:(len(divs1)-1)]:\n",
    "            all_page += div.text #p標籤字串相加\n",
    "    if (len(i_len)>0):\n",
    "        for i in range(0,pages):\n",
    "            next_page = x_url.split('&')[0]+'&page={}'.format(i+1)#截取&前面字串加上字串&page={}用format方法網頁頁數+1\n",
    "            #url=\"http://www.cheers.com.tw/article/article.action?id=555555&page=i\"\n",
    "            res2 = requests.get(next_page)\n",
    "            soup2 = bs(res2.text)\n",
    "            divs2 = soup2.select('.chw_article_main_content p')\n",
    "            for div3 in divs2[1:(len(divs1)-1)]:\n",
    "                all_page += div3.text #p標籤字串相加存到all_page\n",
    "    else:\n",
    "        continue\n",
    "    name = x_url.split('id=')[1].split('&')[0]        \n",
    "    f = open('E:\\cheers\\{}.txt'.format(name),'w')\n",
    "    f.write(all_page.encode('utf-8'))\n",
    "    f.close()\n",
    "    time.sleep(3)"
   ]
  },
  {
   "cell_type": "code",
   "execution_count": null,
   "metadata": {
    "collapsed": true
   },
   "outputs": [],
   "source": []
  },
  {
   "cell_type": "code",
   "execution_count": null,
   "metadata": {
    "collapsed": true
   },
   "outputs": [],
   "source": []
  }
 ],
 "metadata": {
  "kernelspec": {
   "display_name": "Python 2",
   "language": "python",
   "name": "python2"
  },
  "language_info": {
   "codemirror_mode": {
    "name": "ipython",
    "version": 2
   },
   "file_extension": ".py",
   "mimetype": "text/x-python",
   "name": "python",
   "nbconvert_exporter": "python",
   "pygments_lexer": "ipython2",
   "version": "2.7.11"
  }
 },
 "nbformat": 4,
 "nbformat_minor": 0
}

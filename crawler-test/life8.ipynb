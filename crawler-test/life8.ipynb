{
 "cells": [
  {
   "cell_type": "code",
   "execution_count": 4,
   "metadata": {
    "collapsed": true
   },
   "outputs": [],
   "source": [
    "import requests\n",
    "import shutil\n",
    "from bs4 import BeautifulSoup as bs\n"
   ]
  },
  {
   "cell_type": "code",
   "execution_count": 50,
   "metadata": {
    "collapsed": false
   },
   "outputs": [],
   "source": [
    "res = requests.get('http://www.life8.com.tw/Shop/itemList.aspx?m=1&p=100&o=0&sa=0&smfp=1&')\n",
    "soup = bs(res.text)\n",
    "\n",
    "for i in xrange(1, len(soup.select('.lazy'))):\n",
    "    img = soup.select('.lazy')[i]['src']\n",
    "\n",
    "  "
   ]
  },
  {
   "cell_type": "code",
   "execution_count": 65,
   "metadata": {
    "collapsed": false
   },
   "outputs": [
    {
     "name": "stdout",
     "output_type": "stream",
     "text": [
      "0\n"
     ]
    }
   ],
   "source": [
    "import requests\n",
    "import shutil\n",
    "from bs4 import BeautifulSoup as bs\n",
    "res = requests.get('http://www.life8.com.tw/Shop/itemDetail.aspx?mNo1=03483&cno=11066&m=1&p=100')\n",
    "soup = bs(res.text)\n",
    "div = soup.select('#dtPhotos img')\n",
    "print len(div)"
   ]
  }
 ],
 "metadata": {
  "kernelspec": {
   "display_name": "Python 2",
   "language": "python",
   "name": "python2"
  },
  "language_info": {
   "codemirror_mode": {
    "name": "ipython",
    "version": 2
   },
   "file_extension": ".py",
   "mimetype": "text/x-python",
   "name": "python",
   "nbconvert_exporter": "python",
   "pygments_lexer": "ipython2",
   "version": "2.7.11"
  }
 },
 "nbformat": 4,
 "nbformat_minor": 0
}

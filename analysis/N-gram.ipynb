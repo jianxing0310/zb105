{
 "cells": [
  {
   "cell_type": "code",
   "execution_count": 3,
   "metadata": {
    "collapsed": false
   },
   "outputs": [
    {
     "name": "stdout",
     "output_type": "stream",
     "text": [
      "['\\xe5', '\\x90', '\\x83', '\\xe8', '\\x91', '\\xa1', '\\xe8', '\\x90', '\\x84', '\\xe4', '\\xb8', '\\x8d', '\\xe5', '\\x90', '\\x90', '\\xe8', '\\x91', '\\xa1', '\\xe8', '\\x90', '\\x84', '\\xe7', '\\x9a', '\\xae', '\\xef', '\\xbc', '\\x8c', '\\xe4', '\\xb8', '\\x8d', '\\xe5', '\\x90', '\\x83', '\\xe8', '\\x91', '\\xa1', '\\xe8', '\\x90', '\\x84', '\\xe5', '\\x80', '\\x92', '\\xe5', '\\x90', '\\x90', '\\xe8', '\\x91', '\\xa1', '\\xe8', '\\x90', '\\x84', '\\xe7', '\\x9a', '\\xae', '\\xe3', '\\x80', '\\x82']\n",
      "{'\\xa1': 4, '\\x80': 2, '\\x83': 2, '\\x82': 1, '\\xe5': 5, '\\x84': 4, '\\xe7': 2, '\\xe3': 1, '\\xe8': 8, '\\x8d': 2, '\\x8c': 1, '\\xef': 1, '\\xae': 2, '\\x91': 4, '\\x90': 10, '\\x92': 1, '\\xb8': 2, '\\x9a': 2, '\\xbc': 1, '\\xe4': 2}\n"
     ]
    }
   ],
   "source": [
    "# encoding='utf-8'\n",
    "def list2freqdict(mylist):\n",
    "    mydict=dict()\n",
    "    for ch in mylist:\n",
    "        mydict[ch]=mydict.get(ch,0)+1\n",
    "    return mydict\n",
    "\n",
    "sentence='吃葡萄不吐葡萄皮，不吃葡萄倒吐葡萄皮。'\n",
    "chlist=[ch for ch in sentence]\n",
    "\n",
    "print(chlist)\n",
    "chfreqdict=list2freqdict(chlist)\n",
    "print(chfreqdict)"
   ]
  },
  {
   "cell_type": "code",
   "execution_count": 4,
   "metadata": {
    "collapsed": false
   },
   "outputs": [
    {
     "name": "stdout",
     "output_type": "stream",
     "text": [
      "[('\\x90', 10), ('\\xe8', 8), ('\\xe5', 5), ('\\xa1', 4), ('\\x84', 4), ('\\x91', 4), ('\\x80', 2), ('\\x83', 2), ('\\xe7', 2), ('\\x8d', 2), ('\\xae', 2), ('\\xb8', 2), ('\\x9a', 2), ('\\xe4', 2), ('\\x82', 1), ('\\xe3', 1), ('\\x8c', 1), ('\\xef', 1), ('\\x92', 1), ('\\xbc', 1)]\n"
     ]
    }
   ],
   "source": [
    "# encoding='utf-8'\n",
    "from operator import itemgetter\n",
    "chfreqsorted=sorted(chfreqdict.items(), key=itemgetter(1), reverse=True)\n",
    "print(chfreqsorted)"
   ]
  },
  {
   "cell_type": "code",
   "execution_count": 17,
   "metadata": {
    "collapsed": false
   },
   "outputs": [],
   "source": [
    "sentence = \"臺北藝術大學\"\n",
    "b = \"臺北當代藝術館\"\n",
    "c = \"臺北市立美術館\"\n",
    "d = \"國立臺灣藝術教育館\"\n",
    "e = \"臺北市立天文科學教育館\"\n",
    "    "
   ]
  },
  {
   "cell_type": "code",
   "execution_count": 20,
   "metadata": {
    "collapsed": true
   },
   "outputs": [],
   "source": [
    "def list2freqdict(mylist):#要先算出漢字的頻率分布。我們先定義一個function，input是個list，output是個dictionary：\n",
    "    mydict=dict()\n",
    "    for ch in mylist:\n",
    "        if ch == dict:\n",
    "            mydict[ch]=mydict.get(ch,0)\n",
    "        else:\n",
    "            mydict[ch]=mydict.get(ch,0)+1\n",
    "    return mydict\n",
    "\n",
    "\n",
    "def list2bigram(mylist):#把每個字與下個字塞入mylist[],此為2_gram\n",
    "    return [mylist[i:i+2] for i in range(0,len(mylist)-1)]\n",
    "\n",
    "def list2trigram(mylist):#把每個字與下兩個字塞入mylist[],此為3_gram\n",
    "    return [mylist[i:i+3] for i in range(0,len(mylist)-2)]\n",
    "\n",
    "def list2fourgram(mylist):#把每個字與下兩個字塞入mylist[],此為4_gram\n",
    "    return [mylist[i:i+4] for i in range(0,len(mylist)-3)]\n",
    "\n",
    "def bigram2freqdict(mybigram):#算出每個2_gram的出現次數\n",
    "    mydict=dict()\n",
    "    for (ch1,ch2) in mybigram:\n",
    "        mydict[(ch1,ch2)]=mydict.get((ch1,ch2),0)+1\n",
    "    return mydict\n",
    "\n",
    "def trigram2freqdict(mytrigram):#算出每個3_gram的出現次數\n",
    "    mydict=dict()\n",
    "    for (ch1,ch2,ch3) in mytrigram:\n",
    "        mydict[(ch1,ch2,ch3)]=mydict.get((ch1,ch2,ch3),0)+1\n",
    "    return mydict\n",
    "\n",
    "def fourgram2freqdict(mytrigram):#算出每個3_gram的出現次數\n",
    "    mydict=dict()\n",
    "    for (ch1,ch2,ch3,ch4) in mytrigram:\n",
    "        mydict[(ch1,ch2,ch3,ch4)]=mydict.get((ch1,ch2,ch3,ch4),0)+1\n",
    "    return mydict\n",
    "\n",
    "def freq2report(freqlist):#顯示出結果\n",
    "    chs=str()\n",
    "    print('Char(s)\\tCount')\n",
    "    print('=============')\n",
    "    for (token,num) in freqlist:\n",
    "        for ch in token:\n",
    "            chs=chs+ch\n",
    "        if num>100:\n",
    "            print chs,num\n",
    "        chs=''\n",
    "    return"
   ]
  },
  {
   "cell_type": "code",
   "execution_count": 22,
   "metadata": {
    "collapsed": false
   },
   "outputs": [],
   "source": [
    "# encoding='utf-8'\n",
    "\n",
    "from operator import itemgetter\n",
    "import pymongo\n",
    "from pymongo import MongoClient\n",
    "import re\n",
    "\n",
    "\n",
    "\n",
    "\n",
    "client = MongoClient() \n",
    "database = client[\"test1\"]\n",
    "test2 = database[\"ltn04\"]\n",
    "a=\"\"\n",
    "for post in test2.find():\n",
    "    a=a+post[\"content\"]\n",
    "sentence = \"\"\n",
    "textList = []\n",
    "\n",
    "chlist=[ch for ch in a ]#每個字都分開塞入chlist\n",
    "\n",
    "cutlist = \"報導記者照片<>/:：;；,、＂’，.。！？｢\\\"\\'\\\\\\n\\r《》“”!@#$%^&*()（）／「」〔〕．，。abcdefghijklmnopqrstuvwxyz0123456789\".decode(\"utf-8\")  \n",
    "\n",
    "for word in chlist:\n",
    "    if word not in cutlist:\n",
    "        textList.append(word)\n",
    "        #print word\n",
    "\n",
    "\n"
   ]
  },
  {
   "cell_type": "code",
   "execution_count": 23,
   "metadata": {
    "collapsed": false
   },
   "outputs": [],
   "source": [
    "chfreqdict = list2freqdict(textList)#算出每個字所出現的字數\n",
    "chfreqsorted=sorted(chfreqdict.items(), key=itemgetter(1), reverse=True)#排序 出現最多的字排最前面\n",
    "#把每個字與下個字塞入mylist[]\n",
    "chbigram = list2bigram(textList)\n",
    "chtrigram = list2trigram(textList)\n",
    "fourgram = list2fourgram(textList)\n",
    "#算出每個gram的出現次數\n",
    "bigramfreqdict = bigram2freqdict(chbigram)\n",
    "trigramfreqdict = trigram2freqdict(chtrigram)\n",
    "fourgramfreqdict = fourgram2freqdict(fourgram)\n",
    "\n",
    "bigramfreqsorted = sorted(bigramfreqdict.items(), key=itemgetter(1), reverse=True)\n",
    "trigramfreqsorted = sorted(trigramfreqdict.items(), key=itemgetter(1), reverse=True)\n",
    "fourgramfreqsorted = sorted(fourgramfreqdict.items(), key=itemgetter(1), reverse=True)\n",
    "\n",
    "#freq2report(chfreqsorted)\n",
    "#freq2report(bigramfreqsorted)\n",
    "#print(freq2report(trigramfreqsorted))\n",
    "#freq2report(fourgramfreqsorted)"
   ]
  },
  {
   "cell_type": "code",
   "execution_count": 27,
   "metadata": {
    "collapsed": false,
    "scrolled": true
   },
   "outputs": [
    {
     "name": "stdout",
     "output_type": "stream",
     "text": [
      "Char(s)\tCount\n",
      "=============\n",
      "     3864\n",
      "中華民國 247\n",
      "民進黨立 231\n",
      "進黨立委 226\n",
      "會理事長 222\n",
      "長柯文哲 180\n",
      "行政院長 180\n",
      "轉型正義 177\n",
      "市長柯文 177\n",
      "馬來西亞 175\n",
      "派郭羿婕 157\n",
      "二○一四 157\n",
      "特派郭羿 157\n",
      "○一四年 149\n",
      "總統當選 147\n",
      "統當選人 147\n",
      "警方調查 147\n",
      "台北市長 146\n",
      "表示目前 142\n",
      "昨天上午 138\n",
      "合併營收 133\n",
      "最重要的 126\n",
      "台灣人民 125\n",
      "自治條例 124\n",
      "相關單位 122\n",
      "詐騙集團 122\n",
      "九二共識 121\n",
      "中信兄弟 121\n",
      "科技大學 120\n",
      "北市長柯 119\n",
      "局副局長 118\n",
      "年十二月 118\n",
      "民黨立委 118\n",
      "自行車道 117\n",
      "空氣品質 117\n",
      "今年一月 115\n",
      "主管機關 114\n",
      "二○一三 113\n",
      "國民黨立 113\n",
      "LINE 112\n",
      "國民黨團 112\n",
      "昨天下午 111\n",
      "人蔡英文 110\n",
      "○一三年 110\n",
      "台北台北 110\n",
      "協會理事 109\n",
      "經濟成長 109\n",
      "去年同期 109\n",
      "都市計畫 109\n",
      "選人蔡英 108\n",
      "當選人蔡 107\n",
      "兩岸關係 106\n",
      "北市政府 106\n",
      "文化資產 104\n",
      "長林佳龍 104\n",
      "市長林佳 104\n",
      "院長翁啟 104\n",
      "長翁啟惠 104\n",
      "維吾爾人 102\n",
      "警方表示 102\n",
      "二○一六 101\n",
      "在二○一 101\n",
      "最高法院 101\n",
      "None\n"
     ]
    }
   ],
   "source": [
    "print(freq2report(fourgramfreqsorted)) \n"
   ]
  },
  {
   "cell_type": "code",
   "execution_count": null,
   "metadata": {
    "collapsed": true
   },
   "outputs": [],
   "source": []
  }
 ],
 "metadata": {
  "kernelspec": {
   "display_name": "Python 2",
   "language": "python",
   "name": "python2"
  },
  "language_info": {
   "codemirror_mode": {
    "name": "ipython",
    "version": 2
   },
   "file_extension": ".py",
   "mimetype": "text/x-python",
   "name": "python",
   "nbconvert_exporter": "python",
   "pygments_lexer": "ipython2",
   "version": "2.7.11"
  }
 },
 "nbformat": 4,
 "nbformat_minor": 0
}

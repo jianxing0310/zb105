{
 "cells": [
  {
   "cell_type": "code",
   "execution_count": 3,
   "metadata": {
    "collapsed": false
   },
   "outputs": [
    {
     "name": "stdout",
     "output_type": "stream",
     "text": [
      "['\\xe5', '\\x90', '\\x83', '\\xe8', '\\x91', '\\xa1', '\\xe8', '\\x90', '\\x84', '\\xe4', '\\xb8', '\\x8d', '\\xe5', '\\x90', '\\x90', '\\xe8', '\\x91', '\\xa1', '\\xe8', '\\x90', '\\x84', '\\xe7', '\\x9a', '\\xae', '\\xef', '\\xbc', '\\x8c', '\\xe4', '\\xb8', '\\x8d', '\\xe5', '\\x90', '\\x83', '\\xe8', '\\x91', '\\xa1', '\\xe8', '\\x90', '\\x84', '\\xe5', '\\x80', '\\x92', '\\xe5', '\\x90', '\\x90', '\\xe8', '\\x91', '\\xa1', '\\xe8', '\\x90', '\\x84', '\\xe7', '\\x9a', '\\xae', '\\xe3', '\\x80', '\\x82']\n",
      "{'\\xa1': 4, '\\x80': 2, '\\x83': 2, '\\x82': 1, '\\xe5': 5, '\\x84': 4, '\\xe7': 2, '\\xe3': 1, '\\xe8': 8, '\\x8d': 2, '\\x8c': 1, '\\xef': 1, '\\xae': 2, '\\x91': 4, '\\x90': 10, '\\x92': 1, '\\xb8': 2, '\\x9a': 2, '\\xbc': 1, '\\xe4': 2}\n"
     ]
    }
   ],
   "source": [
    "# encoding='utf-8'\n",
    "def list2freqdict(mylist):\n",
    "    mydict=dict()\n",
    "    for ch in mylist:\n",
    "        mydict[ch]=mydict.get(ch,0)+1\n",
    "    return mydict\n",
    "\n",
    "sentence='吃葡萄不吐葡萄皮，不吃葡萄倒吐葡萄皮。'\n",
    "chlist=[ch for ch in sentence]\n",
    "\n",
    "print(chlist)\n",
    "chfreqdict=list2freqdict(chlist)\n",
    "print(chfreqdict)"
   ]
  },
  {
   "cell_type": "code",
   "execution_count": 4,
   "metadata": {
    "collapsed": false
   },
   "outputs": [
    {
     "name": "stdout",
     "output_type": "stream",
     "text": [
      "[('\\x90', 10), ('\\xe8', 8), ('\\xe5', 5), ('\\xa1', 4), ('\\x84', 4), ('\\x91', 4), ('\\x80', 2), ('\\x83', 2), ('\\xe7', 2), ('\\x8d', 2), ('\\xae', 2), ('\\xb8', 2), ('\\x9a', 2), ('\\xe4', 2), ('\\x82', 1), ('\\xe3', 1), ('\\x8c', 1), ('\\xef', 1), ('\\x92', 1), ('\\xbc', 1)]\n"
     ]
    }
   ],
   "source": [
    "# encoding='utf-8'\n",
    "from operator import itemgetter\n",
    "chfreqsorted=sorted(chfreqdict.items(), key=itemgetter(1), reverse=True)\n",
    "print(chfreqsorted)"
   ]
  },
  {
   "cell_type": "code",
   "execution_count": 17,
   "metadata": {
    "collapsed": false
   },
   "outputs": [],
   "source": [
    "sentence = \"臺北藝術大學\"\n",
    "b = \"臺北當代藝術館\"\n",
    "c = \"臺北市立美術館\"\n",
    "d = \"國立臺灣藝術教育館\"\n",
    "e = \"臺北市立天文科學教育館\"\n",
    "    "
   ]
  },
  {
   "cell_type": "code",
   "execution_count": 18,
   "metadata": {
    "collapsed": true
   },
   "outputs": [],
   "source": [
    "-"
   ]
  },
  {
   "cell_type": "code",
   "execution_count": 19,
   "metadata": {
    "collapsed": false
   },
   "outputs": [
    {
     "name": "stdout",
     "output_type": "stream",
     "text": [
      "Char(s)\tCount\n",
      "=============\n",
      "('\\xe8\\xa1\\x93', '\\t', 1)\n",
      "('\\xe5\\x8c\\x97', '\\t', 1)\n",
      "('\\x93\\xe5\\xa4', '\\t', 1)\n",
      "('\\x97\\x9d\\xe8', '\\t', 1)\n",
      "('\\xba\\xe5\\x8c', '\\t', 1)\n",
      "('\\xe8\\x97\\x9d', '\\t', 1)\n",
      "('\\xe8\\x87\\xba', '\\t', 1)\n",
      "('\\xa4\\xa7\\xe5', '\\t', 1)\n",
      "('\\xa1\\x93\\xe5', '\\t', 1)\n",
      "('\\x97\\xe8\\x97', '\\t', 1)\n",
      "('\\x9d\\xe8\\xa1', '\\t', 1)\n",
      "('\\x8c\\x97\\xe8', '\\t', 1)\n",
      "('\\xa7\\xe5\\xad', '\\t', 1)\n",
      "('\\xe5\\xad\\xb8', '\\t', 1)\n",
      "('\\xe5\\xa4\\xa7', '\\t', 1)\n",
      "('\\x87\\xba\\xe5', '\\t', 1)\n",
      "Char(s)\tCount\n",
      "=============\n",
      "('\\x97\\x9d\\xe8\\xa1', '\\t', 1)\n",
      "('\\x9d\\xe8\\xa1\\x93', '\\t', 1)\n",
      "('\\xa1\\x93\\xe5\\xa4', '\\t', 1)\n",
      "('\\xe5\\xa4\\xa7\\xe5', '\\t', 1)\n",
      "('\\xa4\\xa7\\xe5\\xad', '\\t', 1)\n",
      "('\\x93\\xe5\\xa4\\xa7', '\\t', 1)\n",
      "('\\xa7\\xe5\\xad\\xb8', '\\t', 1)\n",
      "('\\xe5\\x8c\\x97\\xe8', '\\t', 1)\n",
      "('\\xba\\xe5\\x8c\\x97', '\\t', 1)\n",
      "('\\x97\\xe8\\x97\\x9d', '\\t', 1)\n",
      "('\\xe8\\x87\\xba\\xe5', '\\t', 1)\n",
      "('\\xe8\\xa1\\x93\\xe5', '\\t', 1)\n",
      "('\\x87\\xba\\xe5\\x8c', '\\t', 1)\n",
      "('\\xe8\\x97\\x9d\\xe8', '\\t', 1)\n",
      "('\\x8c\\x97\\xe8\\x97', '\\t', 1)\n"
     ]
    }
   ],
   "source": [
    "from operator import itemgetter\n",
    "\n",
    "\n",
    "chlist=[ch for ch in sentence]#每個字都分開塞入chlist\n",
    "chfreqdict = list2freqdict(chlist)#算出每個字所出現的字數\n",
    "chfreqsorted=sorted(chfreqdict.items(), key=itemgetter(1), reverse=True)#排序 出現最多的字排最前面\n",
    "#把每個字與下個字塞入mylist[]\n",
    "chbigram = list2bigram(chlist)\n",
    "chtrigram = list2trigram(chlist)\n",
    "fourgram = list2fourgram(chlist)\n",
    "#算出每個gram的出現次數\n",
    "bigramfreqdict = bigram2freqdict(chbigram)\n",
    "trigramfreqdict = trigram2freqdict(chtrigram)\n",
    "fourgramfreqdict = fourgram2freqdict(fourgram)\n",
    "\n",
    "bigramfreqsorted = sorted(bigramfreqdict.items(), key=itemgetter(1), reverse=True)\n",
    "trigramfreqsorted = sorted(trigramfreqdict.items(), key=itemgetter(1), reverse=True)\n",
    "fourgramfreqsorted = sorted(fourgramfreqdict.items(), key=itemgetter(1), reverse=True)\n",
    "\n",
    "#freq2report(chfreqsorted)\n",
    "#freq2report(bigramfreqsorted)\n",
    "freq2report(trigramfreqsorted)\n",
    "freq2report(fourgramfreqsorted)"
   ]
  },
  {
   "cell_type": "code",
   "execution_count": 3,
   "metadata": {
    "collapsed": false
   },
   "outputs": [],
   "source": [
    "# encoding='utf-8'\n",
    "\n",
    "from operator import itemgetter\n",
    "import pymongo\n",
    "from pymongo import MongoClient\n",
    "import re\n",
    "\n",
    "\n",
    "client = MongoClient() \n",
    "database = client[\"test\"]\n",
    "test2 = database[\"test4\"]\n",
    "a=\"\"\n",
    "for post in test2.find():\n",
    "    a=a+post[\"content\"]\n",
    "\n",
    "f = open('aaa.txt', 'w')\n",
    "f.write(a.encode('utf-8'))\n"
   ]
  },
  {
   "cell_type": "code",
   "execution_count": 15,
   "metadata": {
    "collapsed": false
   },
   "outputs": [],
   "source": []
  },
  {
   "cell_type": "code",
   "execution_count": null,
   "metadata": {
    "collapsed": true
   },
   "outputs": [],
   "source": []
  },
  {
   "cell_type": "code",
   "execution_count": null,
   "metadata": {
    "collapsed": true
   },
   "outputs": [],
   "source": []
  }
 ],
 "metadata": {
  "kernelspec": {
   "display_name": "Python 2",
   "language": "python",
   "name": "python2"
  },
  "language_info": {
   "codemirror_mode": {
    "name": "ipython",
    "version": 2
   },
   "file_extension": ".py",
   "mimetype": "text/x-python",
   "name": "python",
   "nbconvert_exporter": "python",
   "pygments_lexer": "ipython2",
   "version": "2.7.11"
  }
 },
 "nbformat": 4,
 "nbformat_minor": 0
}

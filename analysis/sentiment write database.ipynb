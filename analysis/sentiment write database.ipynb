{
 "cells": [
  {
   "cell_type": "markdown",
   "metadata": {},
   "source": [
    "# 步驟一 載入資料庫&字典"
   ]
  },
  {
   "cell_type": "code",
   "execution_count": 6,
   "metadata": {
    "collapsed": false
   },
   "outputs": [
    {
     "name": "stderr",
     "output_type": "stream",
     "text": [
      "Building prefix dict from E:\\text_mining\\dict.txt ...\n",
      "DEBUG:jieba:Building prefix dict from E:\\text_mining\\dict.txt ...\n",
      "Loading model from cache c:\\users\\bigdat~1\\appdata\\local\\temp\\jieba.u144803eaa96482ea338b54ad8c7f9634.cache\n",
      "DEBUG:jieba:Loading model from cache c:\\users\\bigdat~1\\appdata\\local\\temp\\jieba.u144803eaa96482ea338b54ad8c7f9634.cache\n",
      "Loading model cost 0.544 seconds.\n",
      "DEBUG:jieba:Loading model cost 0.544 seconds.\n",
      "Prefix dict has been built succesfully.\n",
      "DEBUG:jieba:Prefix dict has been built succesfully.\n"
     ]
    }
   ],
   "source": [
    "import re\n",
    "from pymongo import MongoClient \n",
    "from sklearn.feature_extraction.text import TfidfVectorizer\n",
    "import numpy as np\n",
    "import re\n",
    "import jieba\n",
    "jieba.set_dictionary('E:/text_mining/dict.txt')  #切換至中文繁體字庫\n",
    "jieba.load_userdict('E:/text_mining/dict_keyw.txt')  #\n",
    "jieba.load_userdict('E:/text_mining/dict_cbdic.txt')  #\n",
    "#預設就是自己\n",
    "client = MongoClient('mongodb://10.120.28.14:27019')\n",
    "database = client['test']\n",
    "collection =database['test4']"
   ]
  },
  {
   "cell_type": "markdown",
   "metadata": {},
   "source": [
    "# 步驟二 切詞"
   ]
  },
  {
   "cell_type": "code",
   "execution_count": null,
   "metadata": {
    "collapsed": true
   },
   "outputs": [],
   "source": [
    "import time\n",
    "tic = time.clock()\n",
    "\n",
    "title=[]\n",
    "content =[]\n",
    "#拿資料\n",
    "for post in collection.find(): \n",
    "    summary = post['content']\n",
    "    content.append(jieba.cut(summary))\n",
    "    title.append(post['title'])\n",
    "#總文章數量\n",
    "print \"文章數:\",len(title)\n",
    "toc = time.clock()\n",
    "print \"執行時間:\",(toc - tic)"
   ]
  },
  {
   "cell_type": "markdown",
   "metadata": {},
   "source": [
    "# 步驟三 存放情緒詞"
   ]
  },
  {
   "cell_type": "code",
   "execution_count": null,
   "metadata": {
    "collapsed": true
   },
   "outputs": [],
   "source": [
    "#集合（Set）是無序、元素不重複的集合。(使用於字典檔時可以避免重複 ， 如果存jieba則不建議使用，尤其是計算tf-idf時)\n",
    "negative_set=set()  \n",
    "positive_set=set()\n",
    "\n",
    "f=open('E:/text_mining/negative.txt','r')\n",
    "for word in f.readlines():\n",
    "    word=word.strip()\n",
    "    if word not in negative_set:\n",
    "        negative_set.add(word)\n",
    "f.close()\n",
    "\n",
    "f=open('E:/text_mining/positive.txt','r')\n",
    "for word in f.readlines():\n",
    "    word=word.strip()\n",
    "    if word not in positive_set:\n",
    "        positive_set.add(word)\n",
    "f.close()"
   ]
  },
  {
   "cell_type": "markdown",
   "metadata": {},
   "source": [
    "# 步驟四 取出各篇文章切詞 尋找正負詞"
   ]
  },
  {
   "cell_type": "code",
   "execution_count": null,
   "metadata": {
    "collapsed": true
   },
   "outputs": [],
   "source": [
    "tStart=time.time() #計算所需時間(計時開始)\n",
    "\n",
    "neg_write=[]\n",
    "pos_write=[]\n",
    "\n",
    "for n in range(0,6287):  #迴圈參考上面的總文章數\n",
    "\n",
    "    for word in content[n]:\n",
    "        #print word\n",
    "        if word.encode('utf-8') in negative_set:\n",
    "            neg_word_count=neg_word_count+1 # 為負面詞+1 計數\n",
    "        if word.encode('utf-8') in positive_set:\n",
    "            pos_word_count=pos_word_count+1 # 為正面詞+1 計數\n",
    "    neg_write.append(neg_word_count)  #單篇負面詞總數 存入陣列\n",
    "    pos_write.append(pos_word_count)  #單篇正面詞總數 存入陣列\n",
    "\n",
    "\n",
    "\n",
    "tEnd = time.time() #記時(時間結束)\n",
    "  \n",
    "print ' 花了 {} s'.format(tEnd-tStart)    #將經過時間print 出來"
   ]
  },
  {
   "cell_type": "markdown",
   "metadata": {},
   "source": [
    "#  步驟五 存入資料庫"
   ]
  },
  {
   "cell_type": "code",
   "execution_count": null,
   "metadata": {
    "collapsed": true
   },
   "outputs": [],
   "source": [
    "import time\n",
    "tStart=time.time() #計算所需時間(計時開始)\n",
    "\n",
    "obj = collection.find()  #這行一定要加\n",
    "\n",
    "for i in range(0,6287):  #迴圈參考上面的總文章數\n",
    "    collection.update({\"title\":obj[i][\"title\"]},{\"$set\":{\"pos\":pos_write[i],\"neg\":neg_write[i]}}) #collection.update 加入資料庫\n",
    "\n",
    "tEnd = time.time() #記時(時間結束)\n",
    "  \n",
    "print ' 花了 {} s'.format(tEnd-tStart)    #將經過時間print 出來"
   ]
  },
  {
   "cell_type": "markdown",
   "metadata": {},
   "source": [
    "# ----------------------------------------------------------------------------------------------------------"
   ]
  },
  {
   "cell_type": "markdown",
   "metadata": {},
   "source": [
    "# 步驟一 載入資料庫&字典"
   ]
  },
  {
   "cell_type": "code",
   "execution_count": 1,
   "metadata": {
    "collapsed": false
   },
   "outputs": [
    {
     "name": "stderr",
     "output_type": "stream",
     "text": [
      "Building prefix dict from E:\\text_mining\\dict.txt ...\n",
      "DEBUG:jieba:Building prefix dict from E:\\text_mining\\dict.txt ...\n",
      "Loading model from cache c:\\users\\bigdat~1\\appdata\\local\\temp\\jieba.u144803eaa96482ea338b54ad8c7f9634.cache\n",
      "DEBUG:jieba:Loading model from cache c:\\users\\bigdat~1\\appdata\\local\\temp\\jieba.u144803eaa96482ea338b54ad8c7f9634.cache\n",
      "Loading model cost 0.473 seconds.\n",
      "DEBUG:jieba:Loading model cost 0.473 seconds.\n",
      "Prefix dict has been built succesfully.\n",
      "DEBUG:jieba:Prefix dict has been built succesfully.\n"
     ]
    }
   ],
   "source": [
    "import re\n",
    "from pymongo import MongoClient \n",
    "from sklearn.feature_extraction.text import TfidfVectorizer\n",
    "import numpy as np\n",
    "import re\n",
    "import jieba\n",
    "jieba.set_dictionary('E:/text_mining/dict.txt')  #切換至中文繁體字庫\n",
    "jieba.load_userdict('E:/text_mining/dict_keyw.txt')  #\n",
    "jieba.load_userdict('E:/text_mining/dict_cbdic.txt')  #\n",
    "#預設就是自己\n",
    "client = MongoClient()\n",
    "database = client['news']\n",
    "collection =database['news']"
   ]
  },
  {
   "cell_type": "markdown",
   "metadata": {},
   "source": [
    "# 步驟二 切詞"
   ]
  },
  {
   "cell_type": "code",
   "execution_count": 2,
   "metadata": {
    "collapsed": false
   },
   "outputs": [
    {
     "name": "stdout",
     "output_type": "stream",
     "text": [
      "文章數: 1539589\n",
      "執行時間: 86.6449936846\n"
     ]
    }
   ],
   "source": [
    "import time\n",
    "tic = time.clock()\n",
    "\n",
    "title=[]\n",
    "content =[]\n",
    "#拿資料\n",
    "for post in collection.find(): \n",
    "    summary = post['content']\n",
    "    content.append(jieba.cut(summary))\n",
    "\n",
    "print \"文章數:\",len(title)\n",
    "toc = time.clock()\n",
    "print \"執行時間:\",(toc - tic)"
   ]
  },
  {
   "cell_type": "markdown",
   "metadata": {},
   "source": [
    "# 步驟三 存放情緒詞"
   ]
  },
  {
   "cell_type": "code",
   "execution_count": 3,
   "metadata": {
    "collapsed": true
   },
   "outputs": [],
   "source": [
    "#集合（Set）是無序、元素不重複的集合。(使用於字典檔時可以避免重複 ， 如果存jieba則不建議使用，尤其是計算tf-idf時)\n",
    "negative_set=set()  \n",
    "positive_set=set()\n",
    "\n",
    "f=open('E:/text_mining/negative.txt','r')\n",
    "for word in f.readlines():\n",
    "    word=word.strip()\n",
    "    if word not in negative_set:\n",
    "        negative_set.add(word)\n",
    "f.close()\n",
    "\n",
    "f=open('E:/text_mining/positive.txt','r')\n",
    "for word in f.readlines():\n",
    "    word=word.strip()\n",
    "    if word not in positive_set:\n",
    "        positive_set.add(word)\n",
    "f.close()"
   ]
  },
  {
   "cell_type": "markdown",
   "metadata": {},
   "source": [
    "# 步驟四 取出各篇文章切詞 尋找正負詞"
   ]
  },
  {
   "cell_type": "code",
   "execution_count": 4,
   "metadata": {
    "collapsed": false
   },
   "outputs": [
    {
     "name": "stdout",
     "output_type": "stream",
     "text": [
      " 花了 3283.80400014 s\n"
     ]
    }
   ],
   "source": [
    "tStart=time.time() #計算所需時間(計時開始)\n",
    "\n",
    "\n",
    "neg_write=[]\n",
    "pos_write=[]\n",
    "\n",
    "\n",
    "for n in range(0,1539589):  #迴圈參考上面的總文章數\n",
    "    neg=[]\n",
    "    pos=[]\n",
    "    for word in content[n]:\n",
    "        \n",
    "        #print word\n",
    "        if word.encode('utf-8') in negative_set:\n",
    "            neg.append(word.encode('utf-8'))\n",
    "        if word.encode('utf-8') in positive_set:\n",
    "            pos.append(word.encode('utf-8'))\n",
    "    \n",
    "    neg_write.append(neg)  #單篇負面詞總數 存入陣列\n",
    "    pos_write.append(pos)  #單篇正面詞總數 存入陣列\n",
    "\n",
    "\n",
    "\n",
    "tEnd = time.time() #記時(時間結束)\n",
    "  \n",
    "print ' 花了 {} s'.format(tEnd-tStart)    #將經過時間print 出來"
   ]
  },
  {
   "cell_type": "code",
   "execution_count": 18,
   "metadata": {
    "collapsed": false
   },
   "outputs": [
    {
     "name": "stdout",
     "output_type": "stream",
     "text": [
      "23\n"
     ]
    }
   ],
   "source": [
    "print len(neg_write[1355000])"
   ]
  },
  {
   "cell_type": "markdown",
   "metadata": {},
   "source": [
    "#  步驟五 存入資料庫"
   ]
  },
  {
   "cell_type": "code",
   "execution_count": 23,
   "metadata": {
    "collapsed": false
   },
   "outputs": [
    {
     "name": "stdout",
     "output_type": "stream",
     "text": [
      " 花了 12647.8959999 s\n"
     ]
    },
    {
     "name": "stderr",
     "output_type": "stream",
     "text": [
      "C:\\Users\\BIG DATA\\Anaconda2\\lib\\site-packages\\ipykernel\\__main__.py:7: DeprecationWarning: update is deprecated. Use replace_one, update_one or update_many instead.\n"
     ]
    }
   ],
   "source": [
    "import time\n",
    "tStart=time.time() #計算所需時間(計時開始)\n",
    "\n",
    "obj = collection.find()  #這行一定要加\n",
    "\n",
    "for i in range(1469170,1500000):  #迴圈參考上面的總文章數\n",
    "    collection.update({\"_id\":obj[i][\"_id\"]},{\"$set\":{\"pos\":pos_write[i],\"neg\":neg_write[i]}}) #collection.update 加入資料庫\n",
    "\n",
    "tEnd = time.time() #記時(時間結束)\n",
    "  \n",
    "print ' 花了 {} s'.format(tEnd-tStart)    #將經過時間print 出來"
   ]
  },
  {
   "cell_type": "code",
   "execution_count": 20,
   "metadata": {
    "collapsed": false
   },
   "outputs": [
    {
     "name": "stdout",
     "output_type": "stream",
     "text": [
      "{u'category': u'\\u5065\\u5eb7', u'title': u'\\u9280\\u8033+\\u9ec3\\u8c46\\uff1d\\u5c0f\\u8cc7\\u71d5\\u7aa9', u'url': u'http://star.ettoday.net/news/466604', u'comp': u'ebc', u'keyw': u'', u'pos': [u'\\u5065\\u5eb7', u'\\u73cd\\u8cb4', u'\\u5bb9\\u6613', u'\\u7814\\u7a76', u'\\u6307\\u51fa', u'\\u8c50\\u5bcc', u'\\u71df\\u990a', u'\\u71df\\u990a', u'\\u5065\\u5eb7', u'\\u63d0\\u4f9b', u'\\u806f\\u5408', u'\\u8868\\u793a', u'\\u5c31\\u53ef\\u4ee5', u'\\u5448\\u73fe', u'\\u6700\\u4f73', u'\\u6642\\u6a5f', u'\\u591a\\u70ba', u'\\u5747\\u52fb', u'\\u5176\\u5be6', u'\\u53ea\\u8981', u'\\u5c31\\u6709', u'\\u990a\\u984f\\u7f8e\\u5bb9', u'\\u8d8a\\u597d', u'\\u4fe1\\u8b7d', u'\\u624d\\u53ef', u'\\u4f5c\\u70ba', u'\\u53ef\\u8aaa\\u662f', u'\\u5efa\\u8b70', u'\\u4e0d\\u8f38'], u'content': u'2015\\u5e7402\\u670823\\u65e5 10:00\\u5065\\u5eb7\\u91ab\\u7642\\u7db2\\uff0f\\u8a18\\u8005\\u8a31\\u78a9\\u7a4e\\u5831\\u5c0e\\u81ea\\u53e4\\u4ee5\\u4f86\\uff0c\\u71d5\\u7aa9\\u5c31\\u662f\\u73cd\\u8cb4\\u98df\\u6750\\u7684\\u8c61\\u5fb5\\uff0c\\u5bb9\\u6613\\u88ab\\u4eba\\u9ad4\\u5438\\u6536\\uff0c\\u662f\\u8a31\\u591a\\u4eba\\u88dc\\u8eab\\u7684\\u9078\\u64c7\\uff0c\\u7814\\u7a76\\u6307\\u51fa\\uff0c\\u71d5\\u7aa9\\u542b\\u8c50\\u5bcc\\u7684\\u6c34\\u6eb6\\u6027\\u86cb\\u767d\\u8cea\\u3001\\u78b3\\u6c34\\u5316\\u5408\\u7269\\u3001\\u9223\\u3001\\u9435\\u3001\\u9209\\u7b49\\uff0c\\u53ef\\u5e6b\\u52a9\\u4eba\\u9ad4\\u8abf\\u7bc0\\u751f\\u7406\\u6a5f\\u80fd\\uff0c\\u6f64\\u819a\\u990a\\u984f\\uff0c\\u71d5\\u7aa9\\u7684\\u597d\\u8655\\u4eba\\u4eba\\u90fd\\u77e5\\u9053\\uff0c\\u4f46\\u662f\\u4f60\\u77e5\\u9053\\u71d5\\u7aa9\\u600e\\u9ebc\\u716e\\u6700\\u71df\\u990a\\u55ce\\uff1f\\u5403\\u4e0d\\u8d77\\u71d5\\u7aa9\\u662f\\u5426\\u6709\\u53ef\\u4ee3\\u66ff\\u7684\\u98df\\u7269\\u5462\\uff1f\\n\\u25b2 \\u71d5\\u7aa9\\u9019\\u6a23\\u716e\\u6700\\u71df\\u990a\\u3000\\u9280\\u8033+\\u9ec3\\u8c46\\uff1d\\u5c0f\\u8cc7\\u71d5\\u7aa9\\uff08\\u5716\\uff0f\\u5065\\u5eb7\\u91ab\\u7642\\u7db2\\u63d0\\u4f9b\\uff09\\u81fa\\u5317\\u5e02\\u7acb\\u806f\\u5408\\u91ab\\u9662\\u4ec1\\u611b\\u9662\\u5340\\u4e2d\\u91ab\\u79d1\\u4e3b\\u6cbb\\u91ab\\u5e2b\\u5468\\u5b97\\u7ff0\\u8868\\u793a\\uff0c\\u71ac\\u71c9\\u71d5\\u7aa9\\u4e00\\u822c\\u7528\\u71c9\\u76c5\\u9694\\u6c34\\u71c920-30\\u5206\\u9418\\u5c31\\u53ef\\u4ee5\\u4e86\\uff0c\\u5207\\u52ff\\u9577\\u6642\\u9593\\u71c9\\u716e\\u3002\\u800c\\u771f\\u6b63\\u7684\\u71d5\\u7aa9\\u71c9\\u5b8c\\u5f8c\\u6703\\u6709\\u4e00\\u80a1\\u6fc3\\u90c1\\u7684\\u86cb\\u767d\\u6e05\\u9999\\u64b2\\u9f3b\\u800c\\u4f86\\uff0c\\u984f\\u8272\\u591a\\u5448\\u73fe\\u6de1\\u4e73\\u9ec3\\u8272\\uff0c\\u4e0d\\u6703\\u592a\\u767d\\uff0c\\u71c9\\u716e\\u5230\\u534a\\u900f\\u660e\\u662f\\u6700\\u4f73\\u98df\\u7528\\u6642\\u6a5f\\u3002\\u5047\\u71d5\\u7aa9\\u591a\\u70ba\\u6771\\u5357\\u4e9e\\u7684\\u6a39\\u81a0\\uff0c\\u518d\\u647b\\u96dc\\u5c11\\u8a31\\u71d5\\u7aa9\\uff0c\\u984f\\u8272\\u5747\\u52fb\\u4e14\\u98df\\u4e4b\\u7121\\u5473\\uff0c\\u984f\\u8272\\u7565\\u986f\\u767d\\u8272\\uff1b\\u5047\\u71d5\\u7aa9\\u7684\\u53e3\\u611f\\u8106\\u8106\\u7684\\uff0c\\u4e0d\\u6703\\u6709\\u771f\\u71d5\\u7aa9\\u7684\\u6e05\\u9999\\u86cb\\u767d\\u5473\\u3002\\u5468\\u5b97\\u7ff0\\u91ab\\u5e2b\\u8aaa\\uff0c\\u5176\\u5be6\\u53ea\\u8981\\u71d5\\u7aa9\\u662f\\u771f\\u54c1\\u5c31\\u6709\\u6ecb\\u9670\\u6f64\\u71e5\\uff0c\\u76ca\\u6c23\\u88dc\\u4e2d\\uff0c\\u5c0d\\u65bc\\u66f4\\u5e74\\u671f\\u5a66\\u5973\\u53ef\\u6f64\\u80ba\\u6e05\\u8840\\uff0c\\u990a\\u984f\\u7f8e\\u5bb9\\u7684\\u7642\\u6548\\uff0c\\u4e0d\\u4e00\\u5b9a\\u662f\\u8d8a\\u5927\\u7247\\u8d8a\\u8cb4\\u8d8a\\u597d\\uff0c\\u788e\\u71d5\\u7aa9\\u7684\\u6548\\u679c\\u8207\\u5b8c\\u6574\\u71d5\\u7aa9\\u7684\\u6548\\u679c\\u662f\\u4e00\\u6a23\\u7684\\uff0c\\u9078\\u8cfc\\u6642\\uff0c\\u6700\\u91cd\\u8981\\u7684\\u662f\\u8981\\u9078\\u64c7\\u6709\\u4fe1\\u8b7d\\u7684\\u5546\\u5bb6\\uff0c\\u624d\\u53ef\\u78ba\\u4fdd\\u8cb7\\u5230\\u771f\\u7684\\u71d5\\u7aa9\\u3002\\u4e00\\u822c\\u6c11\\u773e\\u5403\\u4e0d\\u8d77\\u71d5\\u7aa9\\u600e\\u9ebc\\u8fa6\\u5462\\uff0c\\u6709\\u6c92\\u6709\\u540c\\u6a23\\u6548\\u679c\\u7684\\u4ee3\\u66ff\\u54c1\\uff1f\\u5468\\u5b97\\u7ff0\\u91ab\\u5e2b\\u89e3\\u91cb\\uff0c\\u6c11\\u773e\\u71d5\\u7aa9\\u5403\\u4e0d\\u8d77\\u6c92\\u95dc\\u4fc2\\uff0c\\u300c\\u9280\\u8033\\u8207\\u9ec3\\u8c46\\u88fd\\u54c1\\u300d\\u8207\\u71d5\\u7aa9\\u6709\\u76f8\\u540c\\u7684\\u6548\\u679c\\uff0c\\u53ef\\u4f5c\\u70ba\\u71d5\\u7aa9\\u7684\\u66ff\\u4ee3\\u54c1\\uff0c\\u53ef\\u8aaa\\u662f\\u5c0f\\u8cc7\\u71d5\\u7aa9\\u3002\\u5efa\\u8b70\\u66f4\\u5e74\\u671f\\u7684\\u5a66\\u5973\\u53ef\\u5e38\\u5403\\u9019\\u5169\\u7a2e\\u98df\\u6750\\uff0c\\u4fdd\\u990a\\u6548\\u679c\\u4e00\\u9ede\\u90fd\\u4e0d\\u8f38\\u71d5\\u7aa9\\uff01\\u8cc7\\u6599\\u4f86\\u6e90\\uff1a\\u3000www.healthnews.com.tw/', u'hitcount': 0, u'neg': [u'\\u5207\\u52ff', u'\\u4e0d\\u6703', u'\\u647b\\u96dc', u'\\u7121\\u5473', u'\\u4e0d\\u6703', u'\\u4e0d\\u4e00\\u5b9a'], u'date': u'20150223', u'_id': ObjectId('571970c83f3dfa1ae8fea7c7')}\n"
     ]
    }
   ],
   "source": [
    "obj = collection.find()\n",
    "print obj[799999]"
   ]
  },
  {
   "cell_type": "code",
   "execution_count": null,
   "metadata": {
    "collapsed": true
   },
   "outputs": [],
   "source": []
  }
 ],
 "metadata": {
  "kernelspec": {
   "display_name": "Python 2",
   "language": "python",
   "name": "python2"
  },
  "language_info": {
   "codemirror_mode": {
    "name": "ipython",
    "version": 2
   },
   "file_extension": ".py",
   "mimetype": "text/x-python",
   "name": "python",
   "nbconvert_exporter": "python",
   "pygments_lexer": "ipython2",
   "version": "2.7.11"
  }
 },
 "nbformat": 4,
 "nbformat_minor": 0
}

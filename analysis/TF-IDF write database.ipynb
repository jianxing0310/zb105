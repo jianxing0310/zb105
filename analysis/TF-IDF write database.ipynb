{
 "cells": [
  {
   "cell_type": "code",
   "execution_count": 9,
   "metadata": {
    "collapsed": false
   },
   "outputs": [
    {
     "name": "stderr",
     "output_type": "stream",
     "text": [
      "Building prefix dict from E:\\text_mining\\dict.txt ...\n",
      "DEBUG:jieba:Building prefix dict from E:\\text_mining\\dict.txt ...\n",
      "Loading model from cache c:\\users\\bigdat~1\\appdata\\local\\temp\\jieba.u144803eaa96482ea338b54ad8c7f9634.cache\n",
      "DEBUG:jieba:Loading model from cache c:\\users\\bigdat~1\\appdata\\local\\temp\\jieba.u144803eaa96482ea338b54ad8c7f9634.cache\n",
      "Loading model cost 0.537 seconds.\n",
      "DEBUG:jieba:Loading model cost 0.537 seconds.\n",
      "Prefix dict has been built succesfully.\n",
      "DEBUG:jieba:Prefix dict has been built succesfully.\n"
     ]
    }
   ],
   "source": [
    "import re\n",
    "from pymongo import MongoClient \n",
    "from sklearn.feature_extraction.text import TfidfVectorizer\n",
    "import numpy as np\n",
    "import re\n",
    "import jieba\n",
    "jieba.set_dictionary('E:/text_mining/dict.txt')  #切換至中文繁體字庫\n",
    "jieba.load_userdict('E:/text_mining/dict_keyw.txt')  #\n",
    "jieba.load_userdict('E:/text_mining/dict_cbdic.txt')  #\n",
    "#預設就是自己\n",
    "client = MongoClient('10.120.28.14',27017)  #不用修改  字典檔請改位子\n",
    "#client = MongoClient('localhost:27017')  #不用修改  字典檔請改位子\n",
    "\n",
    "database = client['test']\n",
    "collection =database['news']"
   ]
  },
  {
   "cell_type": "markdown",
   "metadata": {},
   "source": [
    "# 執行前修改comp:報社   date:修改年份(下方共有3個find需修改)\n",
    "\n"
   ]
  },
  {
   "cell_type": "code",
   "execution_count": null,
   "metadata": {
    "collapsed": false
   },
   "outputs": [],
   "source": [
    "from sklearn.feature_extraction.text import TfidfVectorizer\n",
    "import numpy as np\n",
    "import time\n",
    "\n",
    "for ii in range (1,10):   # 1-9月    10月後改為10-13再執行\n",
    "    a=collection.find(\n",
    "        {\"$and\":[                   \n",
    "                {\"comp\":{\"$regex\":\"LibertyTimes\"}},\n",
    "                {\"date\":{\"$regex\":\"20150{}\".format(ii)}}           #計算當月文章數\n",
    "                ]},{\"_id\":0}).count()    \n",
    "    content =[]\n",
    "    tStart=time.time() #計算所需時間(計時開始)\n",
    "    \n",
    "    for post in collection.find(\n",
    "        {\"$and\":[                   \n",
    "                {\"comp\":{\"$regex\":\"LibertyTimes\"}},                              #尋找一個月新聞(報社手動修改)\n",
    "                {\"date\":{\"$regex\":\"20150{}\".format(ii)}}        #10-12月請將0去掉\n",
    "                ]}): \n",
    "        summary = post['content']\n",
    "        content.append('/'.join(jieba.cut(summary)))\n",
    "\n",
    "    vectorizer = TfidfVectorizer()\n",
    "    X = vectorizer.fit_transform(content)  # titile 放文本\n",
    "    weight = X.toarray()\n",
    "    features = vectorizer.get_feature_names()     # 拿到所有的關鍵詞  \n",
    "\n",
    "    top_features = []\n",
    "    for n in range(0,a):  #迴圈參考上面的總文章數\n",
    "        indices = np.argsort(weight[n])[::-1]  # transformer = TfidfTransformer()  #X.toarray()[5] 是第幾篇新聞的意思\n",
    "        # 看TOP多少的詞\n",
    "        top_n = 40\n",
    "        top_features.append([features[i] for i in indices[:top_n]])    #這邊的寫法會讓關鍵字中間會有空白     \n",
    "\n",
    "    obj=collection.find(\n",
    "        {\"$and\":[                                                                  #尋找一個月新聞(報社手動修改)\n",
    "                {\"comp\":{\"$regex\":\"LibertyTimes\"}},                               \n",
    "                {\"date\":{\"$regex\":\"20150{}\".format(ii)}}\n",
    "                ]})\n",
    "    for i in range(0,a):  #迴圈參考上面的總文章數\n",
    "        collection.update({\"_id\":obj[i][\"_id\"]},{\"$set\":{\"tfidf\":top_features[i]}}) #collection.update即可\n",
    "\n",
    "    tEnd = time.time() #記時(時間結束)\n",
    "    print '完成',len(top_features),'筆'    \n",
    "\n",
    "    \n",
    "    \n",
    "    del content[:]  #清除list暫存記憶體\n",
    "    del top_features[:]  #清除list暫存記憶體\n",
    "    \n",
    "    print ' 花了 {} s'.format(tEnd-tStart)    #將經過時間print 出來"
   ]
  },
  {
   "cell_type": "code",
   "execution_count": null,
   "metadata": {
    "collapsed": true
   },
   "outputs": [],
   "source": []
  }
 ],
 "metadata": {
  "kernelspec": {
   "display_name": "Python 2",
   "language": "python",
   "name": "python2"
  },
  "language_info": {
   "codemirror_mode": {
    "name": "ipython",
    "version": 2
   },
   "file_extension": ".py",
   "mimetype": "text/x-python",
   "name": "python",
   "nbconvert_exporter": "python",
   "pygments_lexer": "ipython2",
   "version": "2.7.11"
  }
 },
 "nbformat": 4,
 "nbformat_minor": 0
}

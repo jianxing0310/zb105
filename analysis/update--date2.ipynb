{
 "cells": [
  {
   "cell_type": "code",
   "execution_count": 1,
   "metadata": {
    "collapsed": false
   },
   "outputs": [
    {
     "name": "stdout",
     "output_type": "stream",
     "text": [
      "1681557\n"
     ]
    }
   ],
   "source": [
    "from pymongo import MongoClient  #logical query selector\n",
    "import time \n",
    "\n",
    "client = MongoClient('10.120.28.14', 27017)\n",
    "database = client[\"news\"]\n",
    "collection = database[\"news\"]\n",
    "aa = collection.find().count()\n",
    "print aa"
   ]
  },
  {
   "cell_type": "code",
   "execution_count": 3,
   "metadata": {
    "collapsed": false
   },
   "outputs": [],
   "source": [
    "a= collection.find()\n",
    "qq=[]\n",
    "for i in a:\n",
    "    qq.append( i[\"date\"][0:6])"
   ]
  },
  {
   "cell_type": "code",
   "execution_count": null,
   "metadata": {
    "collapsed": false
   },
   "outputs": [],
   "source": [
    "\n",
    "tStart=time.time() #計算所需時間(計時開始)\n",
    "\n",
    "for i in range(300000,400000):\n",
    "    a= collection.find()\n",
    "    collection.update({\"_id\":a[i][\"_id\"]},{\"$set\":{\"date2\":qq[0]}}) \n",
    "tEnd = time.time() #記時(時間結束)  \n",
    "print ' 花了 {} s'.format(tEnd-tStart)    #將經過時間print 出來"
   ]
  },
  {
   "cell_type": "code",
   "execution_count": null,
   "metadata": {
    "collapsed": true
   },
   "outputs": [],
   "source": []
  }
 ],
 "metadata": {
  "kernelspec": {
   "display_name": "Python 2",
   "language": "python",
   "name": "python2"
  },
  "language_info": {
   "codemirror_mode": {
    "name": "ipython",
    "version": 2
   },
   "file_extension": ".py",
   "mimetype": "text/x-python",
   "name": "python",
   "nbconvert_exporter": "python",
   "pygments_lexer": "ipython2",
   "version": "2.7.11"
  }
 },
 "nbformat": 4,
 "nbformat_minor": 0
}

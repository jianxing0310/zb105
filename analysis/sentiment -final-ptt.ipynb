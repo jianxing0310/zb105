{
 "cells": [
  {
   "cell_type": "code",
   "execution_count": 7,
   "metadata": {
    "collapsed": false
   },
   "outputs": [
    {
     "name": "stderr",
     "output_type": "stream",
     "text": [
      "Building prefix dict from E:\\text_mining\\dict.txt ...\n",
      "DEBUG:jieba:Building prefix dict from E:\\text_mining\\dict.txt ...\n",
      "Loading model from cache c:\\users\\bigdat~1\\appdata\\local\\temp\\jieba.u144803eaa96482ea338b54ad8c7f9634.cache\n",
      "DEBUG:jieba:Loading model from cache c:\\users\\bigdat~1\\appdata\\local\\temp\\jieba.u144803eaa96482ea338b54ad8c7f9634.cache\n",
      "Loading model cost 0.541 seconds.\n",
      "DEBUG:jieba:Loading model cost 0.541 seconds.\n",
      "Prefix dict has been built succesfully.\n",
      "DEBUG:jieba:Prefix dict has been built succesfully.\n"
     ]
    }
   ],
   "source": [
    "import re\n",
    "from pymongo import MongoClient \n",
    "from sklearn.feature_extraction.text import TfidfVectorizer\n",
    "import numpy as np\n",
    "import re\n",
    "import jieba\n",
    "jieba.set_dictionary('E:/text_mining/dict.txt')  #切換至中文繁體字庫\n",
    "jieba.load_userdict('E:/text_mining/ptt1.txt')  #\n",
    "jieba.load_userdict('E:/text_mining/dict_keyw_new.txt')  #\n",
    "jieba.load_userdict('E:/text_mining/dict_cbdic.txt')  #\n",
    "\n",
    "#預設就是自己\n",
    "client = MongoClient()\n",
    "database = client['ptt1']\n",
    "collection =database['hatsix']"
   ]
  },
  {
   "cell_type": "code",
   "execution_count": 8,
   "metadata": {
    "collapsed": false
   },
   "outputs": [
    {
     "data": {
      "text/plain": [
       "23486"
      ]
     },
     "execution_count": 8,
     "metadata": {},
     "output_type": "execute_result"
    }
   ],
   "source": [
    "a= collection.find().count()\n",
    "a"
   ]
  },
  {
   "cell_type": "code",
   "execution_count": 9,
   "metadata": {
    "collapsed": false
   },
   "outputs": [
    {
     "name": "stdout",
     "output_type": "stream",
     "text": [
      "文章數: 23486\n",
      "執行時間: 0.674670177375\n"
     ]
    }
   ],
   "source": [
    "import time\n",
    "tic = time.clock()\n",
    "\n",
    "title=[]\n",
    "content =[]\n",
    "#拿資料\n",
    "for post in collection.find(): \n",
    "    summary = post['message']\n",
    "    content.append(jieba.cut(summary))\n",
    "    title.append(post['title'])\n",
    "\n",
    "print \"文章數:\",len(content)\n",
    "toc = time.clock()\n",
    "print \"執行時間:\",(toc - tic)"
   ]
  },
  {
   "cell_type": "code",
   "execution_count": 4,
   "metadata": {
    "collapsed": true
   },
   "outputs": [],
   "source": [
    "#集合（Set）是無序、元素不重複的集合。(使用於字典檔時可以避免重複 ， 如果存jieba則不建議使用，尤其是計算tf-idf時)\n",
    "negative_set=set()  \n",
    "positive_set=set()\n",
    "\n",
    "f=open('E:/text_mining/pttbad1.txt','r')\n",
    "for word in f.readlines():\n",
    "    word=word.strip()\n",
    "    if word not in negative_set:\n",
    "        negative_set.add(word)\n",
    "f.close()\n",
    "\n",
    "f=open('E:/text_mining/pttgood1.txt','r')\n",
    "for word in f.readlines():\n",
    "    word=word.strip()\n",
    "    if word not in positive_set:\n",
    "        positive_set.add(word)\n",
    "f.close()"
   ]
  },
  {
   "cell_type": "code",
   "execution_count": 10,
   "metadata": {
    "collapsed": false
   },
   "outputs": [
    {
     "name": "stdout",
     "output_type": "stream",
     "text": [
      " 花了 81.1390001774 s\n"
     ]
    }
   ],
   "source": [
    "tStart=time.time() #計算所需時間(計時開始)\n",
    "\n",
    "\n",
    "neg_write=[]\n",
    "pos_write=[]\n",
    "\n",
    "\n",
    "for n in range(0,23486):  #迴圈參考上面的總文章數\n",
    "    neg=[]\n",
    "    pos=[]\n",
    "    for word in content[n]:\n",
    "        \n",
    "        #print word\n",
    "        if word.encode('utf-8') in negative_set:\n",
    "            neg.append(word.encode('utf-8'))\n",
    "        if word.encode('utf-8') in positive_set:\n",
    "            pos.append(word.encode('utf-8'))\n",
    "    \n",
    "    neg_write.append(neg)  #單篇負面詞總數 存入陣列\n",
    "    pos_write.append(pos)  #單篇正面詞總數 存入陣列\n",
    "\n",
    "\n",
    "\n",
    "tEnd = time.time() #記時(時間結束)\n",
    "  \n",
    "print ' 花了 {} s'.format(tEnd-tStart)    #將經過時間print 出來"
   ]
  },
  {
   "cell_type": "code",
   "execution_count": 11,
   "metadata": {
    "collapsed": false
   },
   "outputs": [
    {
     "name": "stdout",
     "output_type": "stream",
     "text": [
      " 花了 73.375 s\n"
     ]
    },
    {
     "name": "stderr",
     "output_type": "stream",
     "text": [
      "C:\\Users\\BIG DATA\\Anaconda2\\lib\\site-packages\\ipykernel\\__main__.py:7: DeprecationWarning: update is deprecated. Use replace_one, update_one or update_many instead.\n"
     ]
    }
   ],
   "source": [
    "import time\n",
    "tStart=time.time() #計算所需時間(計時開始)\n",
    "\n",
    "obj = collection.find()  #這行一定要加\n",
    "\n",
    "for i in range(0,23486):  #迴圈參考上面的總文章數\n",
    "    collection.update({\"_id\":obj[i][\"_id\"]},{\"$set\":{\"pos\":pos_write[i],\"neg\":neg_write[i]}}) #collection.update 加入資料庫\n",
    "\n",
    "tEnd = time.time() #記時(時間結束)\n",
    "  \n",
    "print ' 花了 {} s'.format(tEnd-tStart)    #將經過時間print 出來"
   ]
  },
  {
   "cell_type": "code",
   "execution_count": 66,
   "metadata": {
    "collapsed": false
   },
   "outputs": [
    {
     "name": "stdout",
     "output_type": "stream",
     "text": [
      "45\n",
      "106\n"
     ]
    }
   ],
   "source": [
    "print len(neg_write)\n",
    "print len(pos_write)\n"
   ]
  },
  {
   "cell_type": "code",
   "execution_count": 67,
   "metadata": {
    "collapsed": false,
    "scrolled": false
   },
   "outputs": [
    {
     "name": "stdout",
     "output_type": "stream",
     "text": [
      "[爆卦] 內湖家樂福退好退滿\n",
      "['\\xe6\\x8a\\xb5\\xe5\\x88\\xb6', '\\xe4\\xb8\\x8d\\xe8\\xb6\\xb3', 'gg', '\\xe5\\x8f\\xaf\\xe6\\x86\\x90', '\\xe5\\x8c\\x97\\xe4\\xb8\\x83', '\\xe6\\x99\\xba\\xe9\\x9a\\x9c', '\\xe5\\x8f\\xaf\\xe6\\x86\\x90', '\\xe8\\xaa\\xaa\\xe8\\xac\\x8a', '\\xe5\\x8f\\xaf\\xe6\\x82\\xb2', '\\xe4\\xb8\\x8d\\xe8\\xb6\\xb3', '\\xe5\\xb4\\xa9\\xe6\\xbd\\xb0', '\\xe9\\x80\\x80\\xe5\\x87\\xba', '\\xe5\\x9e\\x83\\xe5\\x9c\\xbe', '\\xe5\\x99\\x93\\xe6\\x96\\x87', '\\xe8\\x9b\\x86\\xe8\\x9b\\x86', '\\xe8\\xaa\\x8d\\xe5\\x91\\xbd', '\\xe8\\xa2\\xab\\xe5\\x91\\x8a', '\\xe4\\xb8\\x89\\xe5\\xaf\\xb6', '\\xe9\\x96\\x89\\xe5\\x98\\xb4', '\\xe5\\xb4\\xa9\\xe6\\xbd\\xb0', '\\xe7\\xa7\\x80\\xe4\\xb8\\x8b\\xe9\\x99\\x90', '\\xe4\\xb8\\x8d\\xe8\\xb6\\xb3', '\\xe4\\xb8\\x8d\\xe8\\xb6\\xb3', '\\xe8\\xaa\\xaa\\xe8\\xac\\x8a', '\\xe6\\x8a\\xb5\\xe6\\x8a\\x97', '\\xe5\\x93\\xad\\xe5\\x93\\xad', '87', '\\xe5\\x9a\\x87\\xe5\\x88\\xb0', '\\xe5\\xbb\\xa2\\xe7\\x89\\xa9', '\\xe5\\x9e\\x83\\xe5\\x9c\\xbe', '\\xe4\\xb8\\x8d\\xe8\\xb6\\xb3', '\\xe9\\xac\\xbc\\xe6\\x89\\xaf', '\\xe7\\x84\\xa1\\xe8\\x89\\xaf', '\\xe5\\xa5\\xbd\\xe6\\xa3\\x92\\xe6\\xa3\\x92', '\\xe4\\xb8\\x8d\\xe8\\xb6\\xb3', '\\xe5\\xad\\xa4\\xe5\\x96\\xae', '\\xe7\\x8a\\xaf\\xe7\\xbd\\xaa', '\\xe7\\xbd\\xaa\\xe7\\x8a\\xaf', '\\xe5\\xb4\\xa9\\xe6\\xbd\\xb0', '\\xe8\\x87\\xaa\\xe4\\xbb\\xa5\\xe7\\x82\\xba', '\\xe9\\x9b\\xa3\\xe7\\x9c\\x8b', '\\xe4\\xb8\\x8d\\xe8\\xb6\\xb3', '\\xe5\\x99\\x93\\xe6\\x96\\x87', '\\xe6\\xad\\xbb', '\\xe5\\x8f\\xaf\\xe6\\x81\\xa5']\n",
      "抵制\n",
      "不足\n",
      "gg\n",
      "可憐\n",
      "北七\n",
      "智障\n",
      "可憐\n",
      "說謊\n",
      "可悲\n",
      "不足\n",
      "崩潰\n",
      "退出\n",
      "垃圾\n",
      "噓文\n",
      "蛆蛆\n",
      "認命\n",
      "被告\n",
      "三寶\n",
      "閉嘴\n",
      "崩潰\n",
      "秀下限\n",
      "不足\n",
      "不足\n",
      "說謊\n",
      "抵抗\n",
      "哭哭\n",
      "87\n",
      "嚇到\n",
      "廢物\n",
      "垃圾\n",
      "不足\n",
      "鬼扯\n",
      "無良\n",
      "好棒棒\n",
      "不足\n",
      "孤單\n",
      "犯罪\n",
      "罪犯\n",
      "崩潰\n",
      "自以為\n",
      "難看\n",
      "不足\n",
      "噓文\n",
      "死\n",
      "可恥\n",
      "['\\xe7\\xb5\\xa6\\xe6\\x8e\\xa8', '\\xe5\\x8b\\x87\\xe8\\x80\\x85', '\\xe8\\xae\\x9a', '\\xe6\\x81\\xad\\xe5\\x96\\x9c', '\\xe6\\x84\\x9f\\xe8\\xac\\x9d', '\\xe6\\x9c\\x89\\xe5\\x93\\x81', '\\xe8\\xbe\\x9b\\xe8\\x8b\\xa6\\xe4\\xba\\x86', '\\xe5\\x8a\\xa0\\xe6\\xb2\\xb9', '\\xe5\\x8a\\xa0\\xe6\\xb2\\xb9', '\\xe5\\x8b\\x87\\xe8\\x80\\x85', '\\xe8\\xae\\x9a', '\\xe8\\xae\\x9a', '\\xe8\\xae\\x9a', '\\xe5\\x8a\\xaa\\xe5\\x8a\\x9b', 'XD', '\\xe5\\x8a\\xa0\\xe6\\xb2\\xb9', 'XD', '\\xe5\\x8a\\xa0\\xe6\\xb2\\xb9', '\\xe8\\xae\\x9a', '\\xe8\\xac\\x9d\\xe8\\xac\\x9d', '\\xe6\\x8e\\xa8\\xe6\\x8e\\xa8', '\\xe6\\x95\\xac\\xe7\\xa6\\xae', '\\xe8\\xbe\\x9b\\xe8\\x8b\\xa6\\xe4\\xba\\x86', '\\xe5\\x80\\xbc\\xe5\\xbe\\x97', '\\xe5\\x8a\\xa0\\xe6\\xb2\\xb9', '\\xe8\\xbe\\x9b\\xe8\\x8b\\xa6\\xe4\\xba\\x86', '\\xe6\\x94\\xbe\\xe5\\xbf\\x83', 'XD', '\\xe8\\xae\\x9a', '\\xe8\\xae\\x9a', '\\xe8\\xae\\x9a', '\\xe8\\xbe\\x9b\\xe8\\x8b\\xa6\\xe4\\xba\\x86', '\\xe8\\xbe\\x9b\\xe8\\x8b\\xa6\\xe4\\xba\\x86', 'XD', '\\xe7\\x88\\xbd', '\\xe8\\xbe\\x9b\\xe8\\x8b\\xa6\\xe4\\xba\\x86', '\\xe6\\x94\\xbe\\xe5\\xbf\\x83', '\\xe6\\x8e\\xa8\\xe6\\x8e\\xa8', '\\xe5\\x8a\\xa0\\xe6\\xb2\\xb9', '\\xe6\\x8e\\xa8\\xe6\\x8e\\xa8', '\\xe6\\x9c\\x89\\xe6\\x84\\x8f\\xe7\\xbe\\xa9', 'XD', '\\xe8\\xbe\\x9b\\xe8\\x8b\\xa6\\xe4\\xba\\x86', '\\xe5\\xa5\\xbd', '\\xe8\\xbe\\x9b\\xe8\\x8b\\xa6\\xe4\\xba\\x86', 'XD', '\\xe6\\x84\\x9f\\xe6\\x81\\xa9', '\\xe8\\xbe\\x9b\\xe8\\x8b\\xa6\\xe4\\xba\\x86', '\\xe6\\x84\\x9f\\xe8\\xac\\x9d', '\\xe5\\x8a\\xaa\\xe5\\x8a\\x9b', '\\xe7\\xac\\x91\\xe6\\xad\\xbb', '\\xe8\\xbe\\x9b\\xe8\\x8b\\xa6\\xe4\\xba\\x86', '\\xe8\\xbe\\x9b\\xe8\\x8b\\xa6\\xe4\\xba\\x86', '\\xe5\\xb9\\xb9\\xe7\\x9a\\x84\\xe5\\xa5\\xbd', '\\xe6\\x95\\xac\\xe7\\xa6\\xae', '\\xe6\\x94\\xaf\\xe6\\x8c\\x81', '\\xe5\\x8b\\x87\\xe8\\x80\\x85', 'XD', '\\xe8\\xbe\\x9b\\xe8\\x8b\\xa6\\xe4\\xba\\x86', '\\xe8\\xbe\\x9b\\xe8\\x8b\\xa6\\xe4\\xba\\x86', '\\xe8\\xae\\x9a', '\\xe6\\x8e\\xa8\\xe6\\x8e\\xa8', '\\xe6\\x84\\x9f\\xe8\\xac\\x9d', '\\xe8\\xac\\x9d\\xe8\\xac\\x9d', '\\xe8\\xbe\\x9b\\xe8\\x8b\\xa6\\xe4\\xba\\x86', '\\xe8\\xae\\x9a', '\\xe6\\x84\\x9f\\xe8\\xac\\x9d', 'XD', 'XD', '\\xe8\\xbe\\x9b\\xe8\\x8b\\xa6\\xe4\\xba\\x86', '\\xe8\\xae\\x9a', '\\xe8\\xbe\\x9b\\xe8\\x8b\\xa6\\xe4\\xba\\x86', '\\xe9\\x82\\x8f\\xe8\\xbc\\xaf', '\\xe7\\xaa\\x81\\xe7\\xa0\\xb4\\xe5\\xa4\\xa9\\xe9\\x9a\\x9b', 'XD', '\\xe8\\xbe\\x9b\\xe8\\x8b\\xa6\\xe4\\xba\\x86', '\\xe8\\xbe\\x9b\\xe8\\x8b\\xa6\\xe4\\xba\\x86', '\\xe6\\x84\\x9f\\xe8\\xac\\x9d', '\\xe9\\x85\\xb7', '\\xe8\\xbe\\x9b\\xe8\\x8b\\xa6\\xe4\\xba\\x86', '\\xe5\\x8a\\xa0\\xe6\\xb2\\xb9', '\\xe5\\x8a\\xa0\\xe6\\xb2\\xb9', '\\xe7\\x9c\\x9f\\xe5\\xa5\\xbd\\xe7\\xac\\x91', 'XD', 'XD', '\\xe7\\x88\\xbd', '\\xe5\\xa5\\xbd\\xe6\\xa3\\x92\\xe6\\xa3\\x92', 'XD', '\\xe8\\xbe\\x9b\\xe8\\x8b\\xa6\\xe4\\xba\\x86', '\\xe7\\x88\\xbd', '\\xe8\\xac\\x9d\\xe8\\xac\\x9d', '\\xe5\\x8a\\xa0\\xe6\\xb2\\xb9', '\\xe8\\xbe\\x9b\\xe8\\x8b\\xa6\\xe4\\xba\\x86', '\\xe5\\x8a\\xa0\\xe6\\xb2\\xb9', '\\xe8\\xbe\\x9b\\xe8\\x8b\\xa6\\xe4\\xba\\x86', '\\xe8\\xae\\x9a', 'XD', '\\xe5\\x8a\\xaa\\xe5\\x8a\\x9b', '\\xe8\\xae\\x9a', '\\xe6\\x84\\x9f\\xe8\\xac\\x9d', '\\xe6\\x89\\x8d\\xe8\\x83\\xbd', '\\xe8\\xae\\x9a', '\\xe6\\x84\\x9f\\xe8\\xac\\x9d', '\\xe8\\xbe\\x9b\\xe8\\x8b\\xa6\\xe4\\xba\\x86', '\\xe5\\x8a\\xa0\\xe6\\xb2\\xb9', '\\xe8\\xbe\\x9b\\xe8\\x8b\\xa6\\xe4\\xba\\x86']\n",
      "給推\n",
      "勇者\n",
      "讚\n",
      "恭喜\n",
      "感謝\n",
      "有品\n",
      "辛苦了\n",
      "加油\n",
      "加油\n",
      "勇者\n",
      "讚\n",
      "讚\n",
      "讚\n",
      "努力\n",
      "XD\n",
      "加油\n",
      "XD\n",
      "加油\n",
      "讚\n",
      "謝謝\n",
      "推推\n",
      "敬禮\n",
      "辛苦了\n",
      "值得\n",
      "加油\n",
      "辛苦了\n",
      "放心\n",
      "XD\n",
      "讚\n",
      "讚\n",
      "讚\n",
      "辛苦了\n",
      "辛苦了\n",
      "XD\n",
      "爽\n",
      "辛苦了\n",
      "放心\n",
      "推推\n",
      "加油\n",
      "推推\n",
      "有意義\n",
      "XD\n",
      "辛苦了\n",
      "好\n",
      "辛苦了\n",
      "XD\n",
      "感恩\n",
      "辛苦了\n",
      "感謝\n",
      "努力\n",
      "笑死\n",
      "辛苦了\n",
      "辛苦了\n",
      "幹的好\n",
      "敬禮\n",
      "支持\n",
      "勇者\n",
      "XD\n",
      "辛苦了\n",
      "辛苦了\n",
      "讚\n",
      "推推\n",
      "感謝\n",
      "謝謝\n",
      "辛苦了\n",
      "讚\n",
      "感謝\n",
      "XD\n",
      "XD\n",
      "辛苦了\n",
      "讚\n",
      "辛苦了\n",
      "邏輯\n",
      "突破天際\n",
      "XD\n",
      "辛苦了\n",
      "辛苦了\n",
      "感謝\n",
      "酷\n",
      "辛苦了\n",
      "加油\n",
      "加油\n",
      "真好笑\n",
      "XD\n",
      "XD\n",
      "爽\n",
      "好棒棒\n",
      "XD\n",
      "辛苦了\n",
      "爽\n",
      "謝謝\n",
      "加油\n",
      "辛苦了\n",
      "加油\n",
      "辛苦了\n",
      "讚\n",
      "XD\n",
      "努力\n",
      "讚\n",
      "感謝\n",
      "才能\n",
      "讚\n",
      "感謝\n",
      "辛苦了\n",
      "加油\n",
      "辛苦了\n"
     ]
    }
   ],
   "source": [
    "print title[1000]\n",
    "\n",
    "print neg_write[1000]\n",
    "for i in neg_write[1000]:\n",
    "    print i\n",
    "print pos_write[1000]\n",
    "for i in pos_write[1000]:\n",
    "    print i"
   ]
  },
  {
   "cell_type": "markdown",
   "metadata": {},
   "source": [
    "# -----------------------------------------"
   ]
  },
  {
   "cell_type": "code",
   "execution_count": 12,
   "metadata": {
    "collapsed": false
   },
   "outputs": [
    {
     "name": "stdout",
     "output_type": "stream",
     "text": [
      "8397\n",
      "8086\n",
      "8527\n",
      "8810\n",
      "9048\n",
      "8816\n",
      "8170\n",
      "8220\n",
      "9477\n",
      "8264\n",
      "7643\n",
      "8637\n",
      "8534\n",
      "8795\n",
      "8452\n",
      "8810\n",
      "8091\n",
      "3406\n"
     ]
    }
   ],
   "source": [
    "import re\n",
    "from pymongo import MongoClient \n",
    "from sklearn.feature_extraction.text import TfidfVectorizer\n",
    "import numpy as np\n",
    "import re\n",
    "import jieba\n",
    "#jieba.set_dictionary('E:/text_mining/dict.txt')  #切換至中文繁體字庫\n",
    "#jieba.load_userdict('E:/text_mining/dict_keyw.txt')  #\n",
    "#jieba.load_userdict('E:/text_mining/dict_cbdic.txt')  #\n",
    "#預設就是自己\n",
    "client = MongoClient('10.120.28.14',27017)  #不用修改  字典檔請改位子\n",
    "#client = MongoClient('localhost:27017')  #不用修改  字典檔請改位子\n",
    "\n",
    "for i in xrange(1,19):\n",
    "    database = client['ptt1']\n",
    "    collection =database['goss2016_{}'.format(i)]\n",
    "    a=collection.find()\n",
    "    print a.count()"
   ]
  },
  {
   "cell_type": "code",
   "execution_count": 1,
   "metadata": {
    "collapsed": false,
    "scrolled": true
   },
   "outputs": [
    {
     "name": "stderr",
     "output_type": "stream",
     "text": [
      "Building prefix dict from E:\\text_mining\\dict.txt ...\n",
      "DEBUG:jieba:Building prefix dict from E:\\text_mining\\dict.txt ...\n",
      "Loading model from cache c:\\users\\bigdat~1\\appdata\\local\\temp\\jieba.u144803eaa96482ea338b54ad8c7f9634.cache\n",
      "DEBUG:jieba:Loading model from cache c:\\users\\bigdat~1\\appdata\\local\\temp\\jieba.u144803eaa96482ea338b54ad8c7f9634.cache\n",
      "Loading model cost 0.477 seconds.\n",
      "DEBUG:jieba:Loading model cost 0.477 seconds.\n",
      "Prefix dict has been built succesfully.\n",
      "DEBUG:jieba:Prefix dict has been built succesfully.\n"
     ]
    },
    {
     "name": "stdout",
     "output_type": "stream",
     "text": [
      " 花了 49.5429999828 s\n",
      " 花了 59.8760001659 s\n",
      " 花了 53.8380000591 s\n",
      " 花了 50.3699998856 s\n",
      " 花了 57.8190000057 s\n",
      " 花了 58.0499999523 s\n",
      " 花了 51.0809998512 s\n",
      " 花了 54.4130001068 s\n",
      " 花了 51.9550001621 s\n",
      " 花了 42.2809998989 s\n",
      " 花了 36.2050001621 s\n"
     ]
    },
    {
     "name": "stderr",
     "output_type": "stream",
     "text": [
      "C:\\Users\\BIG DATA\\Anaconda2\\lib\\site-packages\\ipykernel\\__main__.py:64: DeprecationWarning: update is deprecated. Use replace_one, update_one or update_many instead.\n"
     ]
    }
   ],
   "source": [
    "import re\n",
    "from pymongo import MongoClient \n",
    "from sklearn.feature_extraction.text import TfidfVectorizer\n",
    "import numpy as np\n",
    "import re\n",
    "import jieba\n",
    "import time\n",
    "jieba.set_dictionary('E:/text_mining/dict.txt')  #切換至中文繁體字庫\n",
    "jieba.load_userdict('E:/text_mining/ptt1.txt')  #\n",
    "jieba.load_userdict('E:/text_mining/dict_keyw_new.txt')  #\n",
    "#jieba.load_userdict('E:/text_mining/dict_cbdic.txt')  #\n",
    "#預設就是自己\n",
    "client = MongoClient()  #不用修改  字典檔請改位子\n",
    "#client = MongoClient('localhost:27017')  #不用修改  字典檔請改位子\n",
    "\n",
    "negative_set=set()  \n",
    "positive_set=set()\n",
    "\n",
    "f=open('E:/text_mining/pttbad1.txt','r')\n",
    "for word in f.readlines():\n",
    "    word=word.strip()\n",
    "    if word not in negative_set:\n",
    "        negative_set.add(word)\n",
    "f.close()\n",
    "\n",
    "f=open('E:/text_mining/pttgood1.txt','r')\n",
    "for word in f.readlines():\n",
    "    word=word.strip()\n",
    "    if word not in positive_set:\n",
    "        positive_set.add(word)\n",
    "f.close()\n",
    "\n",
    "for i in xrange(1,12):\n",
    "    tStart=time.time() #計算所需時間(計時開始)\n",
    "    database = client['ptt2']\n",
    "    collection =database['ptt{}'.format(i)]\n",
    "    a=collection.find()\n",
    "    aa= a.count()\n",
    "    title=[]\n",
    "    content =[]\n",
    "    #拿資料\n",
    "    for post in collection.find(): \n",
    "        summary = post['message']\n",
    "        content.append(jieba.cut(summary))\n",
    "    neg_write=[]\n",
    "    pos_write=[]\n",
    "\n",
    "    for n in range(0,aa):  #迴圈參考上面的總文章數\n",
    "        neg=[]\n",
    "        pos=[]\n",
    "        for word in content[n]:        \n",
    "        #print word\n",
    "            if word.encode('utf-8') in negative_set:\n",
    "                neg.append(word.encode('utf-8'))\n",
    "            if word.encode('utf-8') in positive_set:\n",
    "                pos.append(word.encode('utf-8'))\n",
    "    \n",
    "        neg_write.append(neg)  #單篇負面詞總數 存入陣列\n",
    "        pos_write.append(pos)  #單篇正面詞總數 存入陣列\n",
    "    \n",
    "    obj = collection.find()  #這行一定要加\n",
    "\n",
    "    for z in range(0,aa):  #迴圈參考上面的總文章數\n",
    "        collection.update({\"_id\":obj[z][\"_id\"]},{\"$set\":{\"pos\":pos_write[z],\"neg\":neg_write[z]}}) #collection.update 加入資料庫\n",
    "\n",
    "    tEnd = time.time() #記時(時間結束)  \n",
    "    print ' 花了 {} s'.format(tEnd-tStart)    #將經過時間print 出來\n",
    "    "
   ]
  },
  {
   "cell_type": "code",
   "execution_count": 19,
   "metadata": {
    "collapsed": true
   },
   "outputs": [],
   "source": [
    "#集合（Set）是無序、元素不重複的集合。(使用於字典檔時可以避免重複 ， 如果存jieba則不建議使用，尤其是計算tf-idf時)\n",
    "negative_set=set()  \n",
    "positive_set=set()\n",
    "\n",
    "f=open('E:/text_mining/pttbad1.txt','r')\n",
    "for word in f.readlines():\n",
    "    word=word.strip()\n",
    "    if word not in negative_set:\n",
    "        negative_set.add(word)\n",
    "f.close()\n",
    "\n",
    "f=open('E:/text_mining/pttgood1.txt','r')\n",
    "for word in f.readlines():\n",
    "    word=word.strip()\n",
    "    if word not in positive_set:\n",
    "        positive_set.add(word)\n",
    "f.close()"
   ]
  },
  {
   "cell_type": "code",
   "execution_count": 18,
   "metadata": {
    "collapsed": true
   },
   "outputs": [],
   "source": [
    "#集合（Set）是無序、元素不重複的集合。(使用於字典檔時可以避免重複 ， 如果存jieba則不建議使用，尤其是計算tf-idf時)\n",
    "negative_set=set()  \n",
    "positive_set=set()\n",
    "\n",
    "f=open('E:/text_mining/negative.txt','r')\n",
    "for word in f.readlines():\n",
    "    word=word.strip()\n",
    "    if word not in negative_set:\n",
    "        negative_set.add(word)\n",
    "f.close()\n",
    "\n",
    "f=open('E:/text_mining/positive.txt','r')\n",
    "for word in f.readlines():\n",
    "    word=word.strip()\n",
    "    if word not in positive_set:\n",
    "        positive_set.add(word)\n",
    "f.close()"
   ]
  },
  {
   "cell_type": "code",
   "execution_count": 15,
   "metadata": {
    "collapsed": true
   },
   "outputs": [],
   "source": [
    "import pymongo\n",
    "from pymongo import MongoClient\n",
    "\n",
    "client = MongoClient() \n",
    "database = client[\"news\"]\n",
    "test2 = database[\"ptt\"]\n",
    "\n",
    "obj=test2.find({\"title\":\"[新聞] 北市府：建議颱風假補班課　但會配合中央政策\"})[0]\n",
    "\n"
   ]
  },
  {
   "cell_type": "code",
   "execution_count": 6,
   "metadata": {
    "collapsed": false
   },
   "outputs": [
    {
     "name": "stderr",
     "output_type": "stream",
     "text": [
      "Building prefix dict from E:\\text_mining\\dict.txt ...\n",
      "DEBUG:jieba:Building prefix dict from E:\\text_mining\\dict.txt ...\n",
      "Loading model from cache c:\\users\\bigdat~1\\appdata\\local\\temp\\jieba.u144803eaa96482ea338b54ad8c7f9634.cache\n",
      "DEBUG:jieba:Loading model from cache c:\\users\\bigdat~1\\appdata\\local\\temp\\jieba.u144803eaa96482ea338b54ad8c7f9634.cache\n",
      "Loading model cost 0.535 seconds.\n",
      "DEBUG:jieba:Loading model cost 0.535 seconds.\n",
      "Prefix dict has been built succesfully.\n",
      "DEBUG:jieba:Prefix dict has been built succesfully.\n"
     ]
    }
   ],
   "source": [
    "import jieba\n",
    "jieba.set_dictionary('E:/text_mining/dict.txt')  #切換至中文繁體字庫\n",
    "\n",
    "content=[]\n",
    "summary = obj['message']\n",
    "content.append(jieba.cut(summary))\n",
    "neg_write=[]\n",
    "pos_write=[]\n",
    "\n",
    "neg=[]\n",
    "pos=[]\n",
    "\n",
    "for word in content[0]:\n",
    "    #print word\n",
    "    if word.encode('utf-8') in negative_set:\n",
    "        neg.append(word.encode('utf-8'))\n",
    "    if word.encode('utf-8') in positive_set:\n",
    "        pos.append(word.encode('utf-8'))\n"
   ]
  },
  {
   "cell_type": "code",
   "execution_count": 13,
   "metadata": {
    "collapsed": false
   },
   "outputs": [
    {
     "name": "stdout",
     "output_type": "stream",
     "text": [
      "負向:\n",
      "爛 幹你娘 噓爆 影響 爛 幹 隨便 噓爆 假 影響 假 影響 影響 吃屎 北七 檢討 慣老闆 酸 愛面子 護航 後悔 討噓 影響 自以為 死 噁心 死 不意外 護航 影響 閉嘴 三小 爛 閉嘴 活該 死 幹 淦 淦 幹 後悔 gg gg 累死 取消 失望 幹 屁話 白痴 不到 影響 三小 激動 影響 幹 壓榨 腦殘 秀下限 廢物 慣老闆 北七 下限 幹 zzz 屎蛆 滾 自我中心 自大 幹 傷害 腦殘 失望 噓爆 \n",
      "正向:\n",
      "不錯 好 努力 比較好 哈哈 XD 支持 能力 解決 歡迎 厲害 改善 好 謝謝 有責任 好 負責 很多 遵守 呵呵 好 XD 了不起 好 爽\n"
     ]
    }
   ],
   "source": [
    "print \"負向:\"\n",
    "for i in neg:\n",
    "    print i,\n",
    "print \"\"\n",
    "print \"正向:\"\n",
    "for i in pos:\n",
    "    print i,"
   ]
  },
  {
   "cell_type": "code",
   "execution_count": 20,
   "metadata": {
    "collapsed": false
   },
   "outputs": [
    {
     "name": "stderr",
     "output_type": "stream",
     "text": [
      "Building prefix dict from E:\\text_mining\\dict.txt ...\n",
      "DEBUG:jieba:Building prefix dict from E:\\text_mining\\dict.txt ...\n",
      "Loading model from cache c:\\users\\bigdat~1\\appdata\\local\\temp\\jieba.u144803eaa96482ea338b54ad8c7f9634.cache\n",
      "DEBUG:jieba:Loading model from cache c:\\users\\bigdat~1\\appdata\\local\\temp\\jieba.u144803eaa96482ea338b54ad8c7f9634.cache\n",
      "Loading model cost 0.525 seconds.\n",
      "DEBUG:jieba:Loading model cost 0.525 seconds.\n",
      "Prefix dict has been built succesfully.\n",
      "DEBUG:jieba:Prefix dict has been built succesfully.\n"
     ]
    }
   ],
   "source": [
    "import jieba\n",
    "\n",
    "jieba.set_dictionary('E:/text_mining/dict.txt')  #切換至中文繁體字庫\n",
    "jieba.load_userdict('E:/text_mining/ptt1.txt')  #\n",
    "jieba.load_userdict('E:/text_mining/dict_keyw_new.txt')  #\n",
    "\n",
    "content=[]\n",
    "summary = obj['message']\n",
    "content.append(jieba.cut(summary))\n",
    "neg_write=[]\n",
    "pos_write=[]\n",
    "\n",
    "neg=[]\n",
    "pos=[]\n",
    "\n",
    "for word in content[0]:\n",
    "    #print word\n",
    "    if word.encode('utf-8') in negative_set:\n",
    "        neg.append(word.encode('utf-8'))\n",
    "    if word.encode('utf-8') in positive_set:\n",
    "        pos.append(word.encode('utf-8'))"
   ]
  },
  {
   "cell_type": "code",
   "execution_count": 21,
   "metadata": {
    "collapsed": false
   },
   "outputs": [
    {
     "name": "stdout",
     "output_type": "stream",
     "text": [
      "負向:\n",
      "爛 幹你娘 噓爆 恐將 嚴重 爛 幹 不用 隨便 噓爆 假 假 誇張 吃屎 北七 檢討 慣老闆 酸 愛面子 護航 不是 後悔 討噓 自以為 不要 死 噁心 死 不意外 護航 嚴重 閉嘴 三小 不敢 爛 閉嘴 深怕 吃虧 活該 倒楣 死 幹 不要 淦 淦 幹 後悔 不敢 gg gg 累死 發生意外 取消 沒得 失望 不用 莫名其妙 幹 屁話 白痴 不到 三小 激動 屁用 不是 幹 你媽 壓榨 腦殘 秀下限 擾民 廢物 不會 慣老闆 北七 下限 幹 你媽 zzz 屎蛆 滾 自我中心 受不了 自大 不敢 幹 傷害 不是 腦殘 失望 噓爆 \n",
      "正向:\n",
      "最多 不錯 建議 開放 競爭力 證實 好 建議 努力 保證 競爭力 建議 建議 競爭力 比較好 一流 建議 證明 完善 哈哈 XD 支持 能力 解決 批准 歡迎 厲害 同意 乾脆 改善 落實 好 謝謝 理解 有責任 乾脆 好 負責 很多 建議 營養 建議 最多 遵守 升級 建議 建議 呵呵 好 XD 當選 存在 更重要 了不起 好 建議 實在 競爭力 實施 爽\n"
     ]
    }
   ],
   "source": [
    "print \"負向:\"\n",
    "for i in neg:\n",
    "    print i,\n",
    "print \"\"\n",
    "print \"正向:\"\n",
    "for i in pos:\n",
    "    print i,"
   ]
  },
  {
   "cell_type": "code",
   "execution_count": null,
   "metadata": {
    "collapsed": true
   },
   "outputs": [],
   "source": []
  },
  {
   "cell_type": "code",
   "execution_count": null,
   "metadata": {
    "collapsed": true
   },
   "outputs": [],
   "source": []
  }
 ],
 "metadata": {
  "kernelspec": {
   "display_name": "Python 2",
   "language": "python",
   "name": "python2"
  },
  "language_info": {
   "codemirror_mode": {
    "name": "ipython",
    "version": 2
   },
   "file_extension": ".py",
   "mimetype": "text/x-python",
   "name": "python",
   "nbconvert_exporter": "python",
   "pygments_lexer": "ipython2",
   "version": "2.7.11"
  }
 },
 "nbformat": 4,
 "nbformat_minor": 0
}

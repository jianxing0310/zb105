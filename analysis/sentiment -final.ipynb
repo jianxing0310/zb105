{
 "cells": [
  {
   "cell_type": "markdown",
   "metadata": {},
   "source": [
    "# 步驟一 載入資料庫&字典"
   ]
  },
  {
   "cell_type": "code",
   "execution_count": 1,
   "metadata": {
    "collapsed": false
   },
   "outputs": [
    {
     "name": "stderr",
     "output_type": "stream",
     "text": [
      "Building prefix dict from E:\\text_mining\\dict.txt ...\n",
      "DEBUG:jieba:Building prefix dict from E:\\text_mining\\dict.txt ...\n",
      "Loading model from cache c:\\users\\bigdat~1\\appdata\\local\\temp\\jieba.u144803eaa96482ea338b54ad8c7f9634.cache\n",
      "DEBUG:jieba:Loading model from cache c:\\users\\bigdat~1\\appdata\\local\\temp\\jieba.u144803eaa96482ea338b54ad8c7f9634.cache\n",
      "Loading model cost 0.445 seconds.\n",
      "DEBUG:jieba:Loading model cost 0.445 seconds.\n",
      "Prefix dict has been built succesfully.\n",
      "DEBUG:jieba:Prefix dict has been built succesfully.\n"
     ]
    }
   ],
   "source": [
    "import re\n",
    "from pymongo import MongoClient \n",
    "from sklearn.feature_extraction.text import TfidfVectorizer\n",
    "import numpy as np\n",
    "import re\n",
    "import jieba\n",
    "jieba.set_dictionary('E:/text_mining/dict.txt')  #切換至中文繁體字庫\n",
    "jieba.load_userdict('E:/text_mining/dict_keyw.txt')  #\n",
    "jieba.load_userdict('E:/text_mining/dict_cbdic.txt')  #\n",
    "#預設就是自己\n",
    "client = MongoClient()\n",
    "database = client['test1']\n",
    "collection =database['ebc04']"
   ]
  },
  {
   "cell_type": "markdown",
   "metadata": {},
   "source": [
    "# 步驟二 切詞"
   ]
  },
  {
   "cell_type": "code",
   "execution_count": null,
   "metadata": {
    "collapsed": true
   },
   "outputs": [],
   "source": [
    "import time\n",
    "tic = time.clock()\n",
    "\n",
    "title=[]\n",
    "content =[]\n",
    "#拿資料\n",
    "for post in collection.find(): \n",
    "    summary = post['content']\n",
    "    content.append(jieba.cut(summary))\n",
    "    title.append(post['title'])\n",
    "#總文章數量\n",
    "print \"文章數:\",len(title)\n",
    "toc = time.clock()\n",
    "print \"執行時間:\",(toc - tic)"
   ]
  },
  {
   "cell_type": "markdown",
   "metadata": {},
   "source": [
    "# 步驟三 存放情緒詞"
   ]
  },
  {
   "cell_type": "code",
   "execution_count": null,
   "metadata": {
    "collapsed": true
   },
   "outputs": [],
   "source": [
    "#集合（Set）是無序、元素不重複的集合。(使用於字典檔時可以避免重複 ， 如果存jieba則不建議使用，尤其是計算tf-idf時)\n",
    "negative_set=set()  \n",
    "positive_set=set()\n",
    "\n",
    "f=open('E:/text_mining/negative.txt','r')\n",
    "for word in f.readlines():\n",
    "    word=word.strip()\n",
    "    if word not in negative_set:\n",
    "        negative_set.add(word)\n",
    "f.close()\n",
    "\n",
    "f=open('E:/text_mining/positive.txt','r')\n",
    "for word in f.readlines():\n",
    "    word=word.strip()\n",
    "    if word not in positive_set:\n",
    "        positive_set.add(word)\n",
    "f.close()"
   ]
  },
  {
   "cell_type": "markdown",
   "metadata": {},
   "source": [
    "# 步驟四 取出各篇文章切詞 尋找正負詞"
   ]
  },
  {
   "cell_type": "code",
   "execution_count": null,
   "metadata": {
    "collapsed": true
   },
   "outputs": [],
   "source": [
    "tStart=time.time() #計算所需時間(計時開始)\n",
    "\n",
    "neg_write=[]\n",
    "pos_write=[]\n",
    "\n",
    "for n in range(0,6287):  #迴圈參考上面的總文章數\n",
    "\n",
    "    for word in content[n]:\n",
    "        #print word\n",
    "        if word.encode('utf-8') in negative_set:\n",
    "            neg_word_count=neg_word_count+1 # 為負面詞+1 計數\n",
    "        if word.encode('utf-8') in positive_set:\n",
    "            pos_word_count=pos_word_count+1 # 為正面詞+1 計數\n",
    "    neg_write.append(neg_word_count)  #單篇負面詞總數 存入陣列\n",
    "    pos_write.append(pos_word_count)  #單篇正面詞總數 存入陣列\n",
    "\n",
    "\n",
    "\n",
    "tEnd = time.time() #記時(時間結束)\n",
    "  \n",
    "print ' 花了 {} s'.format(tEnd-tStart)    #將經過時間print 出來"
   ]
  },
  {
   "cell_type": "markdown",
   "metadata": {},
   "source": [
    "#  步驟五 存入資料庫"
   ]
  },
  {
   "cell_type": "code",
   "execution_count": null,
   "metadata": {
    "collapsed": true
   },
   "outputs": [],
   "source": [
    "import time\n",
    "tStart=time.time() #計算所需時間(計時開始)\n",
    "\n",
    "obj = collection.find()  #這行一定要加\n",
    "\n",
    "for i in range(0,6287):  #迴圈參考上面的總文章數\n",
    "    collection.update({\"title\":obj[i][\"title\"]},{\"$set\":{\"pos\":pos_write[i],\"neg\":neg_write[i]}}) #collection.update 加入資料庫\n",
    "\n",
    "tEnd = time.time() #記時(時間結束)\n",
    "  \n",
    "print ' 花了 {} s'.format(tEnd-tStart)    #將經過時間print 出來"
   ]
  },
  {
   "cell_type": "markdown",
   "metadata": {},
   "source": [
    "# ----------------------------------------------------------------------------------------------------------"
   ]
  },
  {
   "cell_type": "markdown",
   "metadata": {},
   "source": [
    "# 步驟一 載入資料庫&字典"
   ]
  },
  {
   "cell_type": "code",
   "execution_count": 11,
   "metadata": {
    "collapsed": false
   },
   "outputs": [
    {
     "name": "stderr",
     "output_type": "stream",
     "text": [
      "Building prefix dict from E:\\text_mining\\dict.txt ...\n",
      "DEBUG:jieba:Building prefix dict from E:\\text_mining\\dict.txt ...\n",
      "Loading model from cache c:\\users\\bigdat~1\\appdata\\local\\temp\\jieba.u144803eaa96482ea338b54ad8c7f9634.cache\n",
      "DEBUG:jieba:Loading model from cache c:\\users\\bigdat~1\\appdata\\local\\temp\\jieba.u144803eaa96482ea338b54ad8c7f9634.cache\n",
      "Loading model cost 0.557 seconds.\n",
      "DEBUG:jieba:Loading model cost 0.557 seconds.\n",
      "Prefix dict has been built succesfully.\n",
      "DEBUG:jieba:Prefix dict has been built succesfully.\n"
     ]
    }
   ],
   "source": [
    "import re\n",
    "from pymongo import MongoClient \n",
    "from sklearn.feature_extraction.text import TfidfVectorizer\n",
    "import numpy as np\n",
    "import re\n",
    "import jieba\n",
    "jieba.set_dictionary('E:/text_mining/dict.txt')  #切換至中文繁體字庫\n",
    "jieba.load_userdict('E:/text_mining/dict_keyw.txt')  #\n",
    "jieba.load_userdict('E:/text_mining/dict_cbdic.txt')  #\n",
    "#預設就是自己\n",
    "client = MongoClient()\n",
    "database = client['test1']\n",
    "collection =database['udn04']"
   ]
  },
  {
   "cell_type": "markdown",
   "metadata": {},
   "source": [
    "# 步驟二 切詞"
   ]
  },
  {
   "cell_type": "code",
   "execution_count": 12,
   "metadata": {
    "collapsed": false
   },
   "outputs": [
    {
     "name": "stdout",
     "output_type": "stream",
     "text": [
      "文章數: 38719\n",
      "執行時間: 0.886613470675\n"
     ]
    }
   ],
   "source": [
    "import time\n",
    "tic = time.clock()\n",
    "\n",
    "title=[]\n",
    "content =[]\n",
    "#拿資料\n",
    "for post in collection.find(): \n",
    "    summary = post['content']\n",
    "    content.append(jieba.cut(summary))\n",
    "\n",
    "print \"文章數:\",len(content)\n",
    "toc = time.clock()\n",
    "print \"執行時間:\",(toc - tic)"
   ]
  },
  {
   "cell_type": "markdown",
   "metadata": {},
   "source": [
    "# 步驟三 存放情緒詞"
   ]
  },
  {
   "cell_type": "code",
   "execution_count": 4,
   "metadata": {
    "collapsed": true
   },
   "outputs": [],
   "source": [
    "#集合（Set）是無序、元素不重複的集合。(使用於字典檔時可以避免重複 ， 如果存jieba則不建議使用，尤其是計算tf-idf時)\n",
    "negative_set=set()  \n",
    "positive_set=set()\n",
    "\n",
    "f=open('E:/text_mining/negative.txt','r')\n",
    "for word in f.readlines():\n",
    "    word=word.strip()\n",
    "    if word not in negative_set:\n",
    "        negative_set.add(word)\n",
    "f.close()\n",
    "\n",
    "f=open('E:/text_mining/positive.txt','r')\n",
    "for word in f.readlines():\n",
    "    word=word.strip()\n",
    "    if word not in positive_set:\n",
    "        positive_set.add(word)\n",
    "f.close()"
   ]
  },
  {
   "cell_type": "markdown",
   "metadata": {},
   "source": [
    "# 步驟四 取出各篇文章切詞 尋找正負詞"
   ]
  },
  {
   "cell_type": "code",
   "execution_count": 13,
   "metadata": {
    "collapsed": false
   },
   "outputs": [
    {
     "name": "stdout",
     "output_type": "stream",
     "text": [
      " 花了 62.1410000324 s\n"
     ]
    }
   ],
   "source": [
    "tStart=time.time() #計算所需時間(計時開始)\n",
    "\n",
    "\n",
    "neg_write=[]\n",
    "pos_write=[]\n",
    "\n",
    "\n",
    "for n in range(0,38719):  #迴圈參考上面的總文章數\n",
    "    neg=[]\n",
    "    pos=[]\n",
    "    for word in content[n]:\n",
    "        \n",
    "        #print word\n",
    "        if word.encode('utf-8') in negative_set:\n",
    "            neg.append(word.encode('utf-8'))\n",
    "        if word.encode('utf-8') in positive_set:\n",
    "            pos.append(word.encode('utf-8'))\n",
    "    \n",
    "    neg_write.append(neg)  #單篇負面詞總數 存入陣列\n",
    "    pos_write.append(pos)  #單篇正面詞總數 存入陣列\n",
    "\n",
    "\n",
    "\n",
    "tEnd = time.time() #記時(時間結束)\n",
    "  \n",
    "print ' 花了 {} s'.format(tEnd-tStart)    #將經過時間print 出來"
   ]
  },
  {
   "cell_type": "code",
   "execution_count": 11,
   "metadata": {
    "collapsed": false
   },
   "outputs": [
    {
     "name": "stdout",
     "output_type": "stream",
     "text": [
      "18\n"
     ]
    }
   ],
   "source": [
    "print len(pos_write[7763])"
   ]
  },
  {
   "cell_type": "markdown",
   "metadata": {},
   "source": [
    "#  步驟五 存入資料庫"
   ]
  },
  {
   "cell_type": "code",
   "execution_count": 14,
   "metadata": {
    "collapsed": false
   },
   "outputs": [
    {
     "name": "stdout",
     "output_type": "stream",
     "text": [
      " 花了 196.391000032 s\n"
     ]
    },
    {
     "name": "stderr",
     "output_type": "stream",
     "text": [
      "C:\\Users\\BIG DATA\\Anaconda2\\lib\\site-packages\\ipykernel\\__main__.py:7: DeprecationWarning: update is deprecated. Use replace_one, update_one or update_many instead.\n"
     ]
    }
   ],
   "source": [
    "import time\n",
    "tStart=time.time() #計算所需時間(計時開始)\n",
    "\n",
    "obj = collection.find()  #這行一定要加\n",
    "\n",
    "for i in range(0,38719):  #迴圈參考上面的總文章數\n",
    "    collection.update({\"_id\":obj[i][\"_id\"]},{\"$set\":{\"pos\":pos_write[i],\"neg\":neg_write[i]}}) #collection.update 加入資料庫\n",
    "\n",
    "tEnd = time.time() #記時(時間結束)\n",
    "  \n",
    "print ' 花了 {} s'.format(tEnd-tStart)    #將經過時間print 出來"
   ]
  },
  {
   "cell_type": "code",
   "execution_count": 16,
   "metadata": {
    "collapsed": false
   },
   "outputs": [
    {
     "name": "stdout",
     "output_type": "stream",
     "text": [
      "[u'\\u50b7\\u4eba', u'\\u6182\\u5fc3', u'\\u6c92\\u4eba', u'\\u7570\\u72c0', u'\\u5403\\u7dca', u'\\u58d3\\u529b', u'\\u66b4\\u6012', u'\\u4e5f\\u4e0d', u'\\u8f49\\u8b8a', u'\\u602a\\u7570', u'\\u6cae\\u55aa', u'\\u53cd\\u8986', u'\\u64fe\\u4e82', u'\\u9a5a\\u52d5', u'\\u751a\\u81f3', u'\\u6298\\u9a30', u'\\u751f\\u75c5', u'\\u5f88\\u6c23', u'\\u6642\\u597d\\u6642\\u58de', u'\\u96e3\\u71ac', u'\\u7e43\\u7dca\\u795e\\u7d93', u'\\u6df1\\u6015', u'\\u6c23\\u6025\\u6557\\u58de', u'\\u543c\\u53eb', u'\\u5fc3\\u7070\\u610f\\u51b7', u'\\u4e0d\\u6562', u'\\u6311\\u91c1', u'\\u53ea\\u597d', u'\\u7531\\u4ed6\\u53bb', u'\\u773c\\u6dda', u'\\u4e0d\\u77e5\\u9053', u'\\u4e0d\\u7a69\\u5b9a', u'\\u4f4e\\u843d', u'\\u9084\\u5f97', u'\\u9a5a\\u614c', u'\\u4e0d\\u7528', u'\\u64d4\\u6182', u'\\u53e5\\u9ede', u'\\u7121\\u6cd5', u'\\u5fd8\\u8a18', u'\\u6182\\u6101', u'\\u7599\\u7629', u'\\u7121\\u6cd5', u'\\u62b9\\u6ec5']\n",
      "傷人\n",
      "憂心\n",
      "沒人\n",
      "異狀\n",
      "吃緊\n",
      "壓力\n",
      "暴怒\n",
      "也不\n",
      "轉變\n",
      "怪異\n",
      "沮喪\n",
      "反覆\n",
      "擾亂\n",
      "驚動\n",
      "甚至\n",
      "折騰\n",
      "生病\n",
      "很氣\n",
      "時好時壞\n",
      "難熬\n",
      "繃緊神經\n",
      "深怕\n",
      "氣急敗壞\n",
      "吼叫\n",
      "心灰意冷\n",
      "不敢\n",
      "挑釁\n",
      "只好\n",
      "由他去\n",
      "眼淚\n",
      "不知道\n",
      "不穩定\n",
      "低落\n",
      "還得\n",
      "驚慌\n",
      "不用\n",
      "擔憂\n",
      "句點\n",
      "無法\n",
      "忘記\n",
      "憂愁\n",
      "疙瘩\n",
      "無法\n",
      "抹滅\n"
     ]
    }
   ],
   "source": [
    "obj = collection.find()\n",
    "print obj[7763][\"neg\"]\n",
    "for i in obj[7763][\"neg\"]:\n",
    "    print i"
   ]
  },
  {
   "cell_type": "code",
   "execution_count": null,
   "metadata": {
    "collapsed": true
   },
   "outputs": [],
   "source": []
  },
  {
   "cell_type": "code",
   "execution_count": null,
   "metadata": {
    "collapsed": true
   },
   "outputs": [],
   "source": []
  }
 ],
 "metadata": {
  "kernelspec": {
   "display_name": "Python 2",
   "language": "python",
   "name": "python2"
  },
  "language_info": {
   "codemirror_mode": {
    "name": "ipython",
    "version": 2
   },
   "file_extension": ".py",
   "mimetype": "text/x-python",
   "name": "python",
   "nbconvert_exporter": "python",
   "pygments_lexer": "ipython2",
   "version": "2.7.11"
  }
 },
 "nbformat": 4,
 "nbformat_minor": 0
}

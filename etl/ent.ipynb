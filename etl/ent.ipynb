{
 "cells": [
  {
   "cell_type": "code",
   "execution_count": null,
   "metadata": {
    "collapsed": true
   },
   "outputs": [],
   "source": [
    "import re\n",
    "import time\n",
    "import requests\n",
    "from bs4 import BeautifulSoup as bs\n",
    "import datetime as dt\n",
    "import json\n",
    "import ast  #轉換成json需要套件\n",
    "import string\n",
    "\n",
    "def wr_ent(url):  #方法 娛樂類的網頁版型\n",
    "    res = requests.get(url)\n",
    "    res.encoding = \"UTF-8\"\n",
    "    soup = bs(res.text)\n",
    "    essay = soup.select('p')\n",
    "    tital = soup.select('.news_content h1 ')[0].text.encode('utf-8')\n",
    "    date1 =  soup.select('.news_content .date')[0].text.encode('utf-8')\n",
    "    date = string.replace(date1, '/', '')[0:8]\n",
    "    category = \"娛樂\"\n",
    "    comp = \" LibertyTimes\"\n",
    "    page=\"\"                          #給一個字串,存放內文用           \n",
    "    for div3 in essay[0:(len(essay))]:\n",
    "        page += div3.text.encode('utf-8')       #加入內文   \n",
    "    return tital,date,category, page,comp\n",
    "\n",
    "all_json=\"\"\n",
    "for i in xrange(1,5):\n",
    "    with open('newentertainment{}.txt'.format(i), 'r') as f:\n",
    "        for line in f.readlines():\n",
    "            url = line.strip()\n",
    "            x= wr_ent(url) #使用方法\n",
    "            data ={'title' :x[0],'category' : x[2],'content' : x[3],'url':url,'date':x[1],'comp':x[4],'keyw':'','hitcount':0}\n",
    "            all_json+=str(data)+','\n",
    "            time.sleep(1.5)\n",
    "\n",
    "    a = eval(all_json)                       #AST套件 轉換 all_json 成 json\n",
    "    d1 =  json.dumps(a)\n",
    "    with open('newentertainment{}.json'.format(i), \"w\") as f:\n",
    "        f.write(d1)\n",
    "        f.close()\n",
    "    data.clear()            \n",
    "                    "
   ]
  }
 ],
 "metadata": {
  "kernelspec": {
   "display_name": "Python 2",
   "language": "python",
   "name": "python2"
  },
  "language_info": {
   "codemirror_mode": {
    "name": "ipython",
    "version": 2
   },
   "file_extension": ".py",
   "mimetype": "text/x-python",
   "name": "python",
   "nbconvert_exporter": "python",
   "pygments_lexer": "ipython2",
   "version": "2.7.11"
  }
 },
 "nbformat": 4,
 "nbformat_minor": 0
}

{
 "cells": [
  {
   "cell_type": "code",
   "execution_count": 11,
   "metadata": {
    "collapsed": false
   },
   "outputs": [
    {
     "data": {
      "text/plain": [
       "<function close>"
      ]
     },
     "execution_count": 11,
     "metadata": {},
     "output_type": "execute_result"
    }
   ],
   "source": [
    "import requests\n",
    "from bs4 import BeautifulSoup as bs\n",
    "\n",
    "url = 'http://zh.pttpedia.wikia.com/wiki/%E7%AC%AC%E4%BA%8C%E5%B1%86%E6%89%B9%E8%B8%A2%E8%B8%A2%E6%B5%81%E8%A1%8C%E8%AA%9E%E5%A4%A7%E8%B3%9E'\n",
    "res = requests.get(url)\n",
    "soup = bs(res.text)\n",
    "sort = soup.select('#mw-content-text li a')\n",
    "f = open('pttkew.txt', 'w')\n",
    "for i in sort:\n",
    "    a = i.text\n",
    "    f.write(a.encode('utf-8')+ '\\n')\n",
    "f.close\n"
   ]
  },
  {
   "cell_type": "code",
   "execution_count": 12,
   "metadata": {
    "collapsed": true
   },
   "outputs": [],
   "source": [
    "file = open('ptt_encyc.txt', 'r')\n",
    "data = {}\n",
    "f = open('ptt_encyc1.txt', 'w')\n",
    "try:\n",
    "    for line in file:\n",
    "        data[line.strip()] = 1\n",
    "\n",
    "    for line in iter(data):\n",
    "        f.write(line + '\\n')\n",
    "\n",
    "finally:\n",
    "    file.close()\n",
    "    f.close()"
   ]
  },
  {
   "cell_type": "code",
   "execution_count": null,
   "metadata": {
    "collapsed": false
   },
   "outputs": [],
   "source": [
    "import requests\n",
    "from bs4 import BeautifulSoup as bs\n",
    "\n",
    "url=\"http://zh.pttpedia.wikia.com/wiki/PTT%E6%94%BF%E6%B2%BB%E4%BA%BA%E7%89%A9%E7%B6%BD%E8%99%9F%E5%88%97%E8%A1%A8\"\n",
    "res = requests.get(url)\n",
    "soup = bs(res.text)\n",
    "sort = soup.select(\"td\")\n",
    "print sort[0].txt,sort[1].txt\n",
    "for i in range(0,75,2):\n",
    "    dic={name:sort[i],nickname:sort[i+1]}"
   ]
  },
  {
   "cell_type": "code",
   "execution_count": 10,
   "metadata": {
    "collapsed": false
   },
   "outputs": [],
   "source": [
    "sort=[2,2,5,8,6,58,15,5,6,3,5,4,45,66,53,66,94,4]\n",
    "a=[]\n",
    "for i in range(0,18,2):\n",
    "    dic={'name':sort[i],'nickname':sort[i+1]}\n",
    "    a.append(dic)"
   ]
  },
  {
   "cell_type": "code",
   "execution_count": 11,
   "metadata": {
    "collapsed": false
   },
   "outputs": [
    {
     "name": "stdout",
     "output_type": "stream",
     "text": [
      "[{'nickname': 2, 'name': 2}, {'nickname': 8, 'name': 5}, {'nickname': 58, 'name': 6}, {'nickname': 5, 'name': 15}, {'nickname': 3, 'name': 6}, {'nickname': 4, 'name': 5}, {'nickname': 66, 'name': 45}, {'nickname': 66, 'name': 53}, {'nickname': 4, 'name': 94}]\n"
     ]
    }
   ],
   "source": [
    "print a"
   ]
  },
  {
   "cell_type": "code",
   "execution_count": 126,
   "metadata": {
    "collapsed": false
   },
   "outputs": [],
   "source": [
    "import requests\n",
    "from bs4 import BeautifulSoup as bs\n",
    "\n",
    "a=[]\n",
    "url=\"http://zh.pttpedia.wikia.com/wiki/PTT%E6%94%BF%E6%B2%BB%E4%BA%BA%E7%89%A9%E7%B6%BD%E8%99%9F%E5%88%97%E8%A1%A8\"\n",
    "res = requests.get(url)\n",
    "soup = bs(res.text)\n",
    "sort = soup.select(\"td\")\n",
    "#print sort[0].txt,sort[1].txt\n",
    "for i in range(0,148,2):\n",
    "    dic={'name':sort[i].text,'nickname':sort[i+1].text}\n",
    "    a.append(dic)"
   ]
  },
  {
   "cell_type": "code",
   "execution_count": 170,
   "metadata": {
    "collapsed": false,
    "scrolled": true
   },
   "outputs": [
    {
     "data": {
      "text/plain": [
       "{'name': u'\\u9673\\u5efa\\u4ec1\\n',\n",
       " 'nickname': u'\\u8056\\u9a0e\\u58eb\\u3001\\u9673\\u5927\\u4ec1\\u3001\\u5927\\u4ec1\\u54e5\\n'}"
      ]
     },
     "execution_count": 170,
     "metadata": {},
     "output_type": "execute_result"
    }
   ],
   "source": [
    "a[54]\n",
    "\n"
   ]
  },
  {
   "cell_type": "code",
   "execution_count": 82,
   "metadata": {
    "collapsed": false
   },
   "outputs": [
    {
     "name": "stdout",
     "output_type": "stream",
     "text": [
      " 馬英九\n",
      "\n",
      " 陳水扁\n",
      "\n",
      " 李登輝\n",
      "\n",
      "吳敦義\n",
      "\n",
      "呂秀蓮\n",
      "\n",
      "陳菊\n",
      "\n",
      "蔡英文\n",
      "\n",
      "蘇貞昌\n",
      "\n",
      "吳伯雄\n",
      "\n",
      "郝柏村\n",
      "\n",
      "連戰\n",
      "\n",
      "胡志強\n",
      "\n",
      "金溥聰\n",
      "\n",
      "江宜樺\n",
      "\n",
      "宋楚瑜\n",
      "\n",
      "王金平\n",
      "\n",
      "邱毅\n",
      "\n",
      "謝長廷\n",
      "\n",
      "郝龍斌\n",
      "\n",
      "洪秀柱\n",
      "\n",
      "連勝文\n",
      "\n",
      "朱立倫\n",
      "\n",
      "賴清德\n",
      "\n",
      "林益世\n",
      "\n",
      "劉憶如\n",
      "\n",
      "賴素如\n",
      "\n",
      "陳以真\n",
      "\n",
      "劉政鴻\n",
      "\n",
      "傅崐萁\n",
      "\n",
      "吳志揚\n",
      "\n",
      "吳育昇\n",
      "\n",
      "段宜康\n",
      "\n",
      "陳文茜\n",
      "\n",
      "吳淑珍\n",
      "\n",
      "馬以南\n",
      "\n",
      "丁守中\n",
      "\n",
      "蔡正元\n",
      "\n",
      "羅淑蕾\n",
      "\n",
      "張慶忠\n",
      "\n",
      "柯文哲\n",
      "\n",
      "紀國棟\n",
      "\n",
      "王世堅\n",
      "\n",
      "陳致中\n",
      "\n",
      "黃秀霜\n",
      "\n",
      "楊秋興\n",
      "\n",
      "陳為廷\n",
      "\n",
      "高嘉瑜\n",
      "\n",
      "游錫堃\n",
      "\n",
      "林佳龍\n",
      "\n",
      "鄭文燦\n",
      "\n",
      "陳明義\n",
      "\n",
      "王如玄\n",
      "\n",
      "戴伯特\n",
      "\n",
      "王浩宇\n",
      "\n",
      "陳建仁\n",
      "\n",
      "徐欣瑩\n",
      "\n",
      "王郁琦\n",
      "\n",
      "莊國榮\n",
      "\n",
      "馬鶴凌\n",
      "\n",
      "杜正勝\n",
      "\n",
      "蔣介石\n",
      "\n",
      "顏清標\n",
      "\n",
      "黃國昌\n",
      "\n",
      "林昶佐\n",
      "\n",
      "洪慈庸\n",
      "\n",
      "劉建國\n",
      "\n",
      "蕭美琴\n",
      "\n",
      "周美青\n",
      "\n",
      "蔣萬安\n",
      "\n",
      "龍應台\n",
      "\n",
      "姚文智\n",
      "\n",
      "黃敏惠\n",
      "\n",
      "翁啟惠\n",
      "\n",
      "羅瑩雪\n",
      "\n"
     ]
    }
   ],
   "source": [
    "for i in a:\n",
    "    print i[\"name\"]"
   ]
  },
  {
   "cell_type": "code",
   "execution_count": null,
   "metadata": {
    "collapsed": false
   },
   "outputs": [],
   "source": []
  },
  {
   "cell_type": "code",
   "execution_count": 147,
   "metadata": {
    "collapsed": false
   },
   "outputs": [
    {
     "data": {
      "text/plain": [
       "({'name': u'\\u5433\\u80b2\\u6607\\u3001WEGO\\u3001\\u543e\\u617e\\u6607\\u3001\\u8587\\u95a3\\u5433\\u3001\\u8587\\u95a3\\u6607'},)"
      ]
     },
     "execution_count": 147,
     "metadata": {},
     "output_type": "execute_result"
    }
   ],
   "source": [
    "{'name': u'\\u9673\\u70ba\\u5ef7\\u3001\\u5c0f\\u718a\\u70ba\\u5ef7\\u3001Waiting\\u3001\\u5976\\u6614\\u54e5\\u3001\\u6478\\u5976\\u5ef7'},\n",
    "{'name': u'\\u6e38\\u932b\\u5803\\u3001\\u65b9\\u65b9\\u571f\\u3001\\u6e38\\u6c34\\u725b\\u3001\\u81fa\\u7063\\u6c34\\u725b\\u4f2f\\u3001fanfantu2014\\uff08\\u5728PTT\\u7684ID\\uff09'},\n",
    "{'name': u'\\u6797\\u4f73\\u9f8d\\u3001 +LONG\\u3001+\\u9f8d\\u3001\\u9ed1\\u9f8d'},\n",
    "{'name': u'\\u912d\\u6587\\u71e6\\u3001\\u80d6\\u5468\\u745c\\u3001\\u756b\\u6d77\\u5831\\u7684\\u80d6\\u5468\\u9b5a'},\n",
    "{'name': u'\\u738b\\u5982\\u7384\\u3001\\u8ecd\\u5b85\\u5973\\u738b\\u3001\\u8ecd\\u5b85\\u4ed9\\u5973\\u3001\\u4e5d\\u5929\\u7384\\u5973\\u3001\\u4e5d\\u9593\\u7384\\u5973\\u3001\\u738b\\u4ed9\\u5973\\u3001\\u623f\\u5982\\u7384\\u3001\\u7384\\u904e\\u982d\\u300122K\\u4e4b\\u6bcd\\u3001\\u6309\\u9234\\u52de\\u6bcd'},\n",
    " {'name': u'\\u9673\\u5efa\\u4ec1\\u3001\\u8056\\u9a0e\\u58eb\\u3001\\u9673\\u5927\\u4ec1\\u3001\\u5927\\u4ec1\\u54e5'},\n",
    " "
   ]
  },
  {
   "cell_type": "code",
   "execution_count": 171,
   "metadata": {
    "collapsed": false
   },
   "outputs": [],
   "source": [
    "aa=[{'name': u'\\u99ac\\u82f1\\u4e5d\\u3001\\u4e5d\\u8db4\\u738b\\u3001M19\\u3001\\u99ac\\u7687\\u3001\\u9a1c\\u3001\\u99ac\\u5a18\\u5a18\\u3001\\u99ac\\u5976\\u3001\\u99ac\\u56e7\\u3001\\u5340\\u9577\\u3001\\u99ac\\u7279\\u9996\\u3001\\u99ac\\u8166\\u6c34\\u6bcd\\u3001\\u99ac\\u90a6\\u4f2f\\u3001bumbler\\u3001\\u54c8\\u4f5b\\u651d\\u5f71\\u7cfb\\u3001\\u6211\\u7238\\u99ac\\u9db4\\u51cc\\u3001\\u99ac\\u82f1\\u4e38\\u3001\\u99ac\\u8299\\u4e38\\u3001\\u99ac\\u5361\\u8338\\u3001\\u53f0\\u7368\\u6559\\u7236\\u3001\\u3001\\u795e\\u5766\\u3001\\u99ac\\u6876'},\n",
    " {'name': u'\\u9673\\u6c34\\u6241\\u3001\\u81fa\\u7063\\u4e4b\\u5b50\\u3001\\u7d04\\u66f8\\u4e9e\\u3001\\u571f\\u57ce\\u738b\\u3001\\u9f9c\\u5c71\\u738b\\u3001\\u6551\\u63f4\\u738b\\u3001\\u6241\\u7dad\\u62c9'},\n",
    " {'name': u'\\u674e\\u767b\\u8f1d\\u3001\\u6771\\u701b\\u9738\\u8005\\u3001\\u81fa\\u7063\\u570b\\u7236\\u3001\\u674e\\u6469\\u897f\\u3001\\u81fa\\u7063\\u6469\\u897f\\u3001\\u5ca9\\u91cc\\u6851\\u3001\\u4f60\\u7b49\\u6703'},\n",
    " {'name': u'\\u5433\\u6566\\u7fa9\\u3001\\u767d\\u8cca\\u7fa9\\u3001\\u767d\\u6d77\\u8c5a\\u3001\\u767d\\u526f\\u3001\\u767d\\u8f49\\u5f4e'},\n",
    " {'name': u'\\u5442\\u79c0\\u84ee\\u3001\\u6cd5\\u5f8b\\u84ee\\u3001\\u6028\\u5a66\\u84ee\\u3001\\u5442\\u540e'},\n",
    " {'name': u'\\u9673\\u83ca\\u3001\\u82b1\\u5abd\\u3001\\u7761\\u83ca\\u3001\\u9673\\u83ca.avi'},\n",
    " {'name': u'\\u8521\\u82f1\\u6587\\u3001\\u5c0f\\u82f1\\u3001\\u7a7a\\u5fc3\\u83dc\\u3001\\u5341\\u516b\\u82f1\\u3001\\u796d\\u592e\\u4e42\\u3001\\u66b4\\u529b\\u5c0f\\u82f1\\u3001\\u6771\\u689d\\u82f1\\u59ec\\u3001\\u6b66\\u5247\\u82f1\\u3001\\u9727\\u5cf6\\u3001\\u5c24\\u9054\\u5927\\u5e2b'},\n",
    " {'name': u'\\u8607\\u8c9e\\u660c\\u3001\\u8607\\u771f\\u885d\\u3001\\u8607\\u5149\\u982d\\u3001\\u96fb\\u706b\\u7403\\u3001\\u885d\\u885d\\u885d\\u3001\\u9ed1\\u6b7b\\u8154\\u4e4b\\u7236'},\n",
    " {'name': u'\\u5433\\u4f2f\\u96c4\\u3001\\u7121\\u8116\\u718a\\u3001\\u601d\\u654f\\u9f8d\\u722a\\u624b'},\n",
    " {'name': u'\\u90dd\\u67cf\\u6751\\u3001\\u90dd\\u676f\\u676f\\u3001\\u90dd\\u8ecd\\u982d\\u3001\\u597d\\u9662\\u9577\\u3001\\u80d6\\u864e\\u7238'},\n",
    " {'name': u'\\u9023\\u6230\\u3001\\u9023\\u723a\\u723a\\u3001\\u9023\\u963f\\u6597\\u3001\\u9023\\u963f\\u820d\\u3001\\u8209\\u7403\\u624b'},\n",
    " {'name': u'\\u6c5f\\u5b9c\\u6a3a\\u3001\\u6c5f\\u4e00\\u756b\\u3001\\u6c5f\\u53eb\\u7378\\u3001\\u53e3\\u4ea4\\u81c9'},\n",
    " {'name': u'\\u738b\\u91d1\\u5e73\\u3001\\u8001\\u72d0\\u72f8\\u3001\\u9ed1\\u91d1\\u5e73\\u3001\\u516c\\u9053\\u4f2f\\u3001\\u8edf\\u9aa8\\u982d'},\n",
    "{'name': u'\\u90b1\\u6bc5\\u3001\\u885d\\u8eca\\u5927\\u5c07\\u8ecd\\u3001\\u90b1\\u79bf\\u3001\\u6c34\\u4ed9\\u5c11\\u5e74\\u3001\\u6495\\u9aee\\u8feb\\u5bb3\\u3001\\u6495\\u9aee\\u4e0d\\u516c\\u3001\\u774f\\u54c8\\u661f\\u3001\\u4e0d\\u8338\\u6bc5\\u3001\\u9999\\u8549\\u6bc5\\u3001\\u91d1\\u6dea\\u9aee\\u738b\\u3001\\u5047\\u9aee\\u738b\\u3001\\u86af\\u6db2'},  \n",
    "  {'name': u'\\u5433\\u80b2\\u6607\\u3001WEGO\\u3001\\u543e\\u617e\\u6607\\u3001\\u8587\\u95a3\\u5433\\u3001\\u8587\\u95a3\\u6607'},\n",
    "{'name': u'\\u8b1d\\u9577\\u5ef7\\u3001\\u5c0f\\u592b\\u3001\\u5927\\u70b3\\u3001\\u667a\\u591a\\u661f\\u3001\\u6557\\u6230\\u5ef7'},\n",
    "{'name': u'\\u6797\\u76ca\\u4e16\\u3001014\\u30013323'},\n",
    "{'name': u'\\u90dd\\u9f8d\\u658c\\u3001\\u80d6\\u864e\\u3001\\u597d\\u51b0\\u51b0\\u3001\\u597d\\u5929\\u5175\\u3001\\u597d\\u68d2\\u68d2\\u3001\\u597d\\u597d\\u62c6\\u3001\\u90dd\\u6703\\u9223\\u3001\\u58de\\u9f8d\\u51b0\\u3001\\u597d\\u5bf6\\u5bf6\\u3001\\u597d\\u57fa\\u9686'},\n",
    "{'name': u'\\u6d2a\\u79c0\\u67f1\\u3001\\u5c0f\\u592b\\u5abd\\u3001\\u6d2a\\u4e00\\u4e2d\\u3001\\u5c0f\\u8fa3\\u6912\\u3001\\u689d\\u963f\\u6fdf\\uff08\\u53f0\\u8a9e\\uff09\\u3001\\u67f1\\u963f\\u59d0\\u3001\\u67f1\\u67f1\\u59d0\\u3001ZZJ\\u3001\\u7d05\\u93fd\\u67f1'},\n",
    "{'name': u'\\u8cf4\\u6e05\\u5fb7\\u3001\\u4ec1\\u91ab\\u3001\\u8cf4\\u795e\\u3001\\u8cf4\\u9686\\u592b'},\n",
    "{'name': u'\\u9023\\u52dd\\u6587\\u3001\\u795e\\u8c6c\\u3001\\u8209\\u7403\\u624b\\u4e8c\\u4ee3\\u3001\\u4e00\\u8eab\\u76ba\\u8936\\u3001\\u9023D\\u3001\\u9023P\\u3001\\u9023\\u516c\\u5b50\\u3001\\u4e09\\u6b72 \\u81ea\\u8015\\u8fb2\\u3001\\u5317\\u9023\\u3001\\u5929\\u84ec\\u5143\\u5e25\\u3001\\u9023\\u52dd\\u4e3c\\u3001\\u805e\\u814b\\u9752\\u5e74'},\n",
    "{'name': u'\\u6731\\u7acb\\u502b\\u3001\\u7802\\u77f3\\u502b\\u3001\\uff08\\u99ac\\u82f1\\u4e5d\\uff092.0\\u3001Protect\\u6731\\u3001\\u526a\\u7db5\\u738b\\u3001\\u65b0\\u5317\\u738b\\u3001Juli\\u502b\\u3001\\u6731\\u86db\\u502b\\u3001\\u4e3b\\u529b\\u8f2a'},\n",
    " {'name': u'\\u67ef\\u6587\\u54f2\\u3001\\u67ef\\u67ef\\u54f2\\u3001\\u67efP\\u3001\\u67ef\\u5c41\\u3001\\u67ef\\u52de\\u85a9\\u3001\\u67ef\\u5713\\u4ed4\\u3001\\u67ef\\u963f\\u4f2f\\u3001\\u67ef\\u8584\\u54f2\\u3001\\u8d85\\uff08\\u96d9\\uff09\\u5317\\u5e02\\u9577\\u3001\\u67ef\\u795e'},\n",
    "{'name': u'\\u7f85\\u6dd1\\u857e\\u3001\\u857e\\u795e\\u3001\\u96d9\\u9762\\u5200\\u9b3c\\u3001\\u5439\\u72d7\\u857e\\u3001\\u6c41\\u6ce2\\u871c'},\n",
    "{'name': u'\\u8521\\u6b63\\u5143\\u3001\\u796d\\u6b62\\u5140\\u3001\\u4e09\\u4e03\\u5143\\u3001\\u76dc\\u5716\\u5143\\u3001\\u5167\\u6e56\\u77f3\\u5167\\u535c\\u3001\\u81ea\\u5df1\\u4eba\\u3001\\u8278\\u4e00\\u4e00\\u3001++--\\u3001\\u306e\\u6182'},\n",
    " {'name': u'\\u9673\\u70ba\\u5ef7\\u3001\\u5c0f\\u718a\\u70ba\\u5ef7\\u3001Waiting\\u3001\\u5976\\u6614\\u54e5\\u3001\\u6478\\u5976\\u5ef7'},\n",
    "{'name': u'\\u6e38\\u932b\\u5803\\u3001\\u65b9\\u65b9\\u571f\\u3001\\u6e38\\u6c34\\u725b\\u3001\\u81fa\\u7063\\u6c34\\u725b\\u4f2f\\u3001fanfantu2014\\uff08\\u5728PTT\\u7684ID\\uff09'},\n",
    "{'name': u'\\u6797\\u4f73\\u9f8d\\u3001 +LONG\\u3001+\\u9f8d\\u3001\\u9ed1\\u9f8d'},\n",
    "{'name': u'\\u912d\\u6587\\u71e6\\u3001\\u80d6\\u5468\\u745c\\u3001\\u756b\\u6d77\\u5831\\u7684\\u80d6\\u5468\\u9b5a'},\n",
    "{'name': u'\\u738b\\u5982\\u7384\\u3001\\u8ecd\\u5b85\\u5973\\u738b\\u3001\\u8ecd\\u5b85\\u4ed9\\u5973\\u3001\\u4e5d\\u5929\\u7384\\u5973\\u3001\\u4e5d\\u9593\\u7384\\u5973\\u3001\\u738b\\u4ed9\\u5973\\u3001\\u623f\\u5982\\u7384\\u3001\\u7384\\u904e\\u982d\\u300122K\\u4e4b\\u6bcd\\u3001\\u6309\\u9234\\u52de\\u6bcd'},\n",
    " {'name': u'\\u9673\\u5efa\\u4ec1\\u3001\\u8056\\u9a0e\\u58eb\\u3001\\u9673\\u5927\\u4ec1\\u3001\\u5927\\u4ec1\\u54e5'},\n",
    "    \n",
    "    \n",
    "    \n",
    "  ]"
   ]
  },
  {
   "cell_type": "code",
   "execution_count": 172,
   "metadata": {
    "collapsed": false
   },
   "outputs": [
    {
     "name": "stdout",
     "output_type": "stream",
     "text": [
      "馬英九、九趴王、M19、馬皇、騜、馬娘娘、馬奶、馬囧、區長、馬特首、馬腦水母、馬邦伯、bumbler、哈佛攝影系、我爸馬鶴凌、馬英丸、馬芙丸、馬卡茸、台獨教父、、神坦、馬桶\n",
      "陳水扁、臺灣之子、約書亞、土城王、龜山王、救援王、扁維拉\n",
      "李登輝、東瀛霸者、臺灣國父、李摩西、臺灣摩西、岩里桑、你等會\n",
      "吳敦義、白賊義、白海豚、白副、白轉彎\n",
      "呂秀蓮、法律蓮、怨婦蓮、呂后\n",
      "陳菊、花媽、睡菊、陳菊.avi\n",
      "蔡英文、小英、空心菜、十八英、祭央乂、暴力小英、東條英姬、武則英、霧島、尤達大師\n",
      "蘇貞昌、蘇真衝、蘇光頭、電火球、衝衝衝、黑死腔之父\n",
      "吳伯雄、無脖熊、思敏龍爪手\n",
      "郝柏村、郝杯杯、郝軍頭、好院長、胖虎爸\n",
      "連戰、連爺爺、連阿斗、連阿舍、舉球手\n",
      "江宜樺、江一畫、江叫獸、口交臉\n",
      "王金平、老狐狸、黑金平、公道伯、軟骨頭\n",
      "邱毅、衝車大將軍、邱禿、水仙少年、撕髮迫害、撕髮不公、睏哈星、不茸毅、香蕉毅、金淪髮王、假髮王、蚯液\n",
      "吳育昇、WEGO、吾慾昇、薇閣吳、薇閣昇\n",
      "謝長廷、小夫、大炳、智多星、敗戰廷\n",
      "林益世、014、3323\n",
      "郝龍斌、胖虎、好冰冰、好天兵、好棒棒、好好拆、郝會鈣、壞龍冰、好寶寶、好基隆\n",
      "洪秀柱、小夫媽、洪一中、小辣椒、條阿濟（台語）、柱阿姐、柱柱姐、ZZJ、紅鏽柱\n",
      "賴清德、仁醫、賴神、賴隆夫\n",
      "連勝文、神豬、舉球手二代、一身皺褶、連D、連P、連公子、三歲 自耕農、北連、天蓬元帥、連勝丼、聞腋青年\n",
      "朱立倫、砂石倫、（馬英九）2.0、Protect朱、剪綵王、新北王、Juli倫、朱蛛倫、主力輪\n",
      "柯文哲、柯柯哲、柯P、柯屁、柯勞薩、柯圓仔、柯阿伯、柯薄哲、超（雙）北市長、柯神\n",
      "羅淑蕾、蕾神、雙面刀鬼、吹狗蕾、汁波蜜\n",
      "蔡正元、祭止兀、三七元、盜圖元、內湖石內卜、自己人、艸一一、++--、の憂\n",
      "陳為廷、小熊為廷、Waiting、奶昔哥、摸奶廷\n",
      "游錫堃、方方土、游水牛、臺灣水牛伯、fanfantu2014（在PTT的ID）\n",
      "林佳龍、 +LONG、+龍、黑龍\n",
      "鄭文燦、胖周瑜、畫海報的胖周魚\n",
      "王如玄、軍宅女王、軍宅仙女、九天玄女、九間玄女、王仙女、房如玄、玄過頭、22K之母、按鈴勞母\n",
      "陳建仁、聖騎士、陳大仁、大仁哥\n"
     ]
    }
   ],
   "source": [
    "for i in aa:\n",
    "    print i[\"name\"]"
   ]
  },
  {
   "cell_type": "code",
   "execution_count": 106,
   "metadata": {
    "collapsed": true
   },
   "outputs": [],
   "source": [
    "b=[]\n",
    "for i in aa:\n",
    "    dic={'name':i['name'],'nickname':i['name']}\n",
    "    b.append(dic)"
   ]
  },
  {
   "cell_type": "code",
   "execution_count": 109,
   "metadata": {
    "collapsed": false
   },
   "outputs": [
    {
     "name": "stdout",
     "output_type": "stream",
     "text": [
      "馬英九、九趴王、M19、馬皇、騜、馬娘娘、馬奶、馬囧、區長、馬特首、馬腦水母、馬邦伯、bumbler、哈佛攝影系、我爸馬鶴凌、馬英丸、馬芙丸、馬卡茸、台獨教父、、神坦、馬桶\n",
      "馬英九、九趴王、M19、馬皇、騜、馬娘娘、馬奶、馬囧、區長、馬特首、馬腦水母、馬邦伯、bumbler、哈佛攝影系、我爸馬鶴凌、馬英丸、馬芙丸、馬卡茸、台獨教父、、神坦、馬桶\n",
      "陳水扁、臺灣之子、約書亞、土城王、龜山王、救援王、扁維拉\n",
      "陳水扁、臺灣之子、約書亞、土城王、龜山王、救援王、扁維拉\n",
      "李登輝、東瀛霸者、臺灣國父、李摩西、臺灣摩西、岩里桑、你等會\n",
      "李登輝、東瀛霸者、臺灣國父、李摩西、臺灣摩西、岩里桑、你等會\n",
      "吳敦義、白賊義、白海豚、白副、白轉彎\n",
      "吳敦義、白賊義、白海豚、白副、白轉彎\n",
      "呂秀蓮、法律蓮、怨婦蓮、呂后\n",
      "呂秀蓮、法律蓮、怨婦蓮、呂后\n",
      "陳菊、花媽、睡菊、陳菊.avi\n",
      "陳菊、花媽、睡菊、陳菊.avi\n",
      "蔡英文、小英、空心菜、十八英、祭央乂、暴力小英、東條英姬、武則英、霧島、尤達大師\n",
      "蔡英文、小英、空心菜、十八英、祭央乂、暴力小英、東條英姬、武則英、霧島、尤達大師\n",
      "蘇貞昌、蘇真衝、蘇光頭、電火球、衝衝衝、黑死腔之父\n",
      "蘇貞昌、蘇真衝、蘇光頭、電火球、衝衝衝、黑死腔之父\n",
      "吳伯雄、無脖熊、思敏龍爪手\n",
      "吳伯雄、無脖熊、思敏龍爪手\n",
      "郝柏村、郝杯杯、郝軍頭、好院長、胖虎爸\n",
      "郝柏村、郝杯杯、郝軍頭、好院長、胖虎爸\n",
      "連戰、連爺爺、連阿斗、連阿舍、舉球手\n",
      "連戰、連爺爺、連阿斗、連阿舍、舉球手\n"
     ]
    }
   ],
   "source": [
    "for i in b:\n",
    "    print i[\"name\"]\n",
    "    print i[\"nickname\"]"
   ]
  },
  {
   "cell_type": "code",
   "execution_count": null,
   "metadata": {
    "collapsed": true
   },
   "outputs": [],
   "source": []
  }
 ],
 "metadata": {
  "kernelspec": {
   "display_name": "Python 2",
   "language": "python",
   "name": "python2"
  },
  "language_info": {
   "codemirror_mode": {
    "name": "ipython",
    "version": 2
   },
   "file_extension": ".py",
   "mimetype": "text/x-python",
   "name": "python",
   "nbconvert_exporter": "python",
   "pygments_lexer": "ipython2",
   "version": "2.7.11"
  }
 },
 "nbformat": 4,
 "nbformat_minor": 0
}
